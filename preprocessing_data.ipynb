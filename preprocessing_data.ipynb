{
 "cells": [
  {
   "cell_type": "markdown",
   "metadata": {},
   "source": [
    "## 0. Import library"
   ]
  },
  {
   "cell_type": "code",
   "execution_count": 1,
   "metadata": {},
   "outputs": [],
   "source": [
    "import pandas as pd \n",
    "import numpy as np "
   ]
  },
  {
   "cell_type": "markdown",
   "metadata": {},
   "source": [
    "## 1. Read data"
   ]
  },
  {
   "cell_type": "code",
   "execution_count": 3,
   "metadata": {},
   "outputs": [
    {
     "data": {
      "text/html": [
       "<div>\n",
       "<style scoped>\n",
       "    .dataframe tbody tr th:only-of-type {\n",
       "        vertical-align: middle;\n",
       "    }\n",
       "\n",
       "    .dataframe tbody tr th {\n",
       "        vertical-align: top;\n",
       "    }\n",
       "\n",
       "    .dataframe thead th {\n",
       "        text-align: right;\n",
       "    }\n",
       "</style>\n",
       "<table border=\"1\" class=\"dataframe\">\n",
       "  <thead>\n",
       "    <tr style=\"text-align: right;\">\n",
       "      <th></th>\n",
       "      <th>id</th>\n",
       "      <th>movie_id</th>\n",
       "      <th>ratings</th>\n",
       "      <th>title</th>\n",
       "      <th>user_review</th>\n",
       "      <th>user_id_review</th>\n",
       "      <th>date_review</th>\n",
       "      <th>total_agree</th>\n",
       "      <th>is_spoilers</th>\n",
       "      <th>description</th>\n",
       "    </tr>\n",
       "  </thead>\n",
       "  <tbody>\n",
       "    <tr>\n",
       "      <th>0</th>\n",
       "      <td>rw0002492</td>\n",
       "      <td>tt0012349</td>\n",
       "      <td>NaN</td>\n",
       "      <td>A Must-See Silent Comedy</td>\n",
       "      <td>Snow Leopard</td>\n",
       "      <td>ur1174211</td>\n",
       "      <td>4 March 2002</td>\n",
       "      <td>87 out of 91</td>\n",
       "      <td>False</td>\n",
       "      <td>While perhaps not as celebrated now as some of...</td>\n",
       "    </tr>\n",
       "    <tr>\n",
       "      <th>1</th>\n",
       "      <td>rw6111597</td>\n",
       "      <td>tt0012349</td>\n",
       "      <td>9.0</td>\n",
       "      <td>Emphatically Outstanding...</td>\n",
       "      <td>Xstal</td>\n",
       "      <td>ur4103165</td>\n",
       "      <td>20 September 2020</td>\n",
       "      <td>29 out of 30</td>\n",
       "      <td>False</td>\n",
       "      <td>It takes your breath away over 100 years later...</td>\n",
       "    </tr>\n",
       "    <tr>\n",
       "      <th>2</th>\n",
       "      <td>rw1223756</td>\n",
       "      <td>tt0012349</td>\n",
       "      <td>9.0</td>\n",
       "      <td>One Of The Most Memorable Silent Films Ever</td>\n",
       "      <td>ccthemovieman-1</td>\n",
       "      <td>ur4445210</td>\n",
       "      <td>24 November 2005</td>\n",
       "      <td>70 out of 79</td>\n",
       "      <td>False</td>\n",
       "      <td>Wow, is this a memorable film! It is one of th...</td>\n",
       "    </tr>\n",
       "    <tr>\n",
       "      <th>3</th>\n",
       "      <td>rw1160671</td>\n",
       "      <td>tt0012349</td>\n",
       "      <td>9.0</td>\n",
       "      <td>Smiling and Tearing</td>\n",
       "      <td>Cineanalyst</td>\n",
       "      <td>ur1888886</td>\n",
       "      <td>29 August 2005</td>\n",
       "      <td>33 out of 35</td>\n",
       "      <td>True</td>\n",
       "      <td>\"The Kid\" is a powerfully emotional and wonder...</td>\n",
       "    </tr>\n",
       "    <tr>\n",
       "      <th>4</th>\n",
       "      <td>rw1611019</td>\n",
       "      <td>tt0012349</td>\n",
       "      <td>NaN</td>\n",
       "      <td>Chaplin understands how close slapstick is to ...</td>\n",
       "      <td>J. Spurlin</td>\n",
       "      <td>ur0679729</td>\n",
       "      <td>4 March 2007</td>\n",
       "      <td>47 out of 48</td>\n",
       "      <td>False</td>\n",
       "      <td>I've always thought there's a great beauty and...</td>\n",
       "    </tr>\n",
       "  </tbody>\n",
       "</table>\n",
       "</div>"
      ],
      "text/plain": [
       "          id   movie_id  ratings  \\\n",
       "0  rw0002492  tt0012349      NaN   \n",
       "1  rw6111597  tt0012349      9.0   \n",
       "2  rw1223756  tt0012349      9.0   \n",
       "3  rw1160671  tt0012349      9.0   \n",
       "4  rw1611019  tt0012349      NaN   \n",
       "\n",
       "                                               title      user_review  \\\n",
       "0                           A Must-See Silent Comedy     Snow Leopard   \n",
       "1                        Emphatically Outstanding...            Xstal   \n",
       "2        One Of The Most Memorable Silent Films Ever  ccthemovieman-1   \n",
       "3                                Smiling and Tearing      Cineanalyst   \n",
       "4  Chaplin understands how close slapstick is to ...       J. Spurlin   \n",
       "\n",
       "  user_id_review        date_review   total_agree  is_spoilers  \\\n",
       "0      ur1174211       4 March 2002  87 out of 91        False   \n",
       "1      ur4103165  20 September 2020  29 out of 30        False   \n",
       "2      ur4445210   24 November 2005  70 out of 79        False   \n",
       "3      ur1888886     29 August 2005  33 out of 35         True   \n",
       "4      ur0679729       4 March 2007  47 out of 48        False   \n",
       "\n",
       "                                         description  \n",
       "0  While perhaps not as celebrated now as some of...  \n",
       "1  It takes your breath away over 100 years later...  \n",
       "2  Wow, is this a memorable film! It is one of th...  \n",
       "3  \"The Kid\" is a powerfully emotional and wonder...  \n",
       "4  I've always thought there's a great beauty and...  "
      ]
     },
     "execution_count": 3,
     "metadata": {},
     "output_type": "execute_result"
    }
   ],
   "source": [
    "df = pd.read_json(\"Data/final.json\")\n",
    "df.head()"
   ]
  },
  {
   "cell_type": "markdown",
   "metadata": {},
   "source": [
    "## 2. Explore data"
   ]
  },
  {
   "cell_type": "code",
   "execution_count": 4,
   "metadata": {},
   "outputs": [
    {
     "name": "stdout",
     "output_type": "stream",
     "text": [
      "<class 'pandas.core.frame.DataFrame'>\n",
      "RangeIndex: 349280 entries, 0 to 349279\n",
      "Data columns (total 10 columns):\n",
      " #   Column          Non-Null Count   Dtype  \n",
      "---  ------          --------------   -----  \n",
      " 0   id              349280 non-null  object \n",
      " 1   movie_id        349280 non-null  object \n",
      " 2   ratings         319197 non-null  float64\n",
      " 3   title           349280 non-null  object \n",
      " 4   user_review     349280 non-null  object \n",
      " 5   user_id_review  349280 non-null  object \n",
      " 6   date_review     349280 non-null  object \n",
      " 7   total_agree     349280 non-null  object \n",
      " 8   is_spoilers     349280 non-null  bool   \n",
      " 9   description     349280 non-null  object \n",
      "dtypes: bool(1), float64(1), object(8)\n",
      "memory usage: 24.3+ MB\n"
     ]
    }
   ],
   "source": [
    "# info data\n",
    "df.info()"
   ]
  },
  {
   "cell_type": "markdown",
   "metadata": {},
   "source": [
    "Description data\n",
    "\n",
    "|column|description| type|\n",
    "|------|-----------|-----|\n",
    "|id| id review| string|\n",
    "|movie_id| id movie|string|\n",
    "|ratings| rating of user for movie| float|\n",
    "|movie_id| id movie|string|\n",
    "|title| title of movie|string|\n",
    "|user_review| name's user|string|\n",
    "|user_id_review| id of user|string|\n",
    "|date_review| date review|string|\n",
    "|total_agree| ...|string|\n",
    "|is_spoilers| ...|bool|\n",
    "|description| description of review|string|"
   ]
  },
  {
   "cell_type": "markdown",
   "metadata": {},
   "source": [
    "## 3. Processing data"
   ]
  },
  {
   "cell_type": "code",
   "execution_count": 5,
   "metadata": {},
   "outputs": [],
   "source": [
    "## Transform type date_review column\n",
    "df['date_review'] = pd.to_datetime(df['date_review'], format='%d %B %Y')"
   ]
  },
  {
   "cell_type": "code",
   "execution_count": 6,
   "metadata": {},
   "outputs": [],
   "source": [
    "## split train test\n",
    "df_train = df[~df['ratings'].isna()]\n",
    "df_test = df[df['ratings'].isna()]"
   ]
  },
  {
   "cell_type": "code",
   "execution_count": 7,
   "metadata": {},
   "outputs": [
    {
     "name": "stderr",
     "output_type": "stream",
     "text": [
      "C:\\Users\\DELL\\AppData\\Local\\Temp\\ipykernel_5360\\477298145.py:8: SettingWithCopyWarning: \n",
      "A value is trying to be set on a copy of a slice from a DataFrame.\n",
      "Try using .loc[row_indexer,col_indexer] = value instead\n",
      "\n",
      "See the caveats in the documentation: https://pandas.pydata.org/pandas-docs/stable/user_guide/indexing.html#returning-a-view-versus-a-copy\n",
      "  df_train['label'] = df_train['ratings'].apply(get_label)\n"
     ]
    }
   ],
   "source": [
    "## get label\n",
    "def get_label(ratings:float):\n",
    "    if ratings <= 4:\n",
    "        return 'NEG'\n",
    "    elif ratings >= 8:\n",
    "        return 'POS'\n",
    "    return 'NEU'\n",
    "df_train['label'] = df_train['ratings'].apply(get_label)"
   ]
  },
  {
   "cell_type": "code",
   "execution_count": 8,
   "metadata": {},
   "outputs": [],
   "source": [
    "df_train.to_csv(\"data/train.csv\")\n",
    "df_test.to_csv(\"data/test.csv\")"
   ]
  }
 ],
 "metadata": {
  "kernelspec": {
   "display_name": "Python 3",
   "language": "python",
   "name": "python3"
  },
  "language_info": {
   "codemirror_mode": {
    "name": "ipython",
    "version": 3
   },
   "file_extension": ".py",
   "mimetype": "text/x-python",
   "name": "python",
   "nbconvert_exporter": "python",
   "pygments_lexer": "ipython3",
   "version": "3.11.5"
  }
 },
 "nbformat": 4,
 "nbformat_minor": 2
}
