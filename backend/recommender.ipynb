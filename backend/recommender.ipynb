{
  "cells": [
    {
      "cell_type": "markdown",
      "metadata": {
        "id": "RGWRce6DuiJW"
      },
      "source": [
        "# **Build Recommend System**"
      ]
    },
    {
      "cell_type": "markdown",
      "metadata": {
        "id": "GyflSCMNuqTz"
      },
      "source": [
        "## *Install & Import libraries*"
      ]
    },
    {
      "cell_type": "code",
      "execution_count": 1,
      "metadata": {
        "id": "1ZRSd3k0lvKQ"
      },
      "outputs": [
        {
          "name": "stdout",
          "output_type": "stream",
          "text": [
            "WARNING:tensorflow:From c:\\Users\\ADMIN\\AppData\\Local\\Programs\\Python\\Python39\\lib\\site-packages\\keras\\src\\losses.py:2976: The name tf.losses.sparse_softmax_cross_entropy is deprecated. Please use tf.compat.v1.losses.sparse_softmax_cross_entropy instead.\n",
            "\n"
          ]
        }
      ],
      "source": [
        "# Import libraries\n",
        "import os\n",
        "import numpy as np\n",
        "import pandas as pd\n",
        "import matplotlib.pyplot as plt\n",
        "from sklearn.model_selection import train_test_split\n",
        "from sklearn.preprocessing import LabelEncoder\n",
        "import requests\n",
        "import json\n",
        "import tensorflow as tf\n",
        "import keras\n",
        "from pprint import pprint"
      ]
    },
    {
      "cell_type": "markdown",
      "metadata": {
        "id": "GkvzU9Pju0GY"
      },
      "source": [
        "## *Loading data by API*"
      ]
    },
    {
      "cell_type": "markdown",
      "metadata": {
        "id": "p0YOwBw_u4Z2"
      },
      "source": [
        "### *Review data*"
      ]
    },
    {
      "cell_type": "code",
      "execution_count": 2,
      "metadata": {
        "id": "4rTxOHELmBfQ"
      },
      "outputs": [],
      "source": [
        "n_reviews = 100000\n",
        "review_url = \"http://42.117.27.86:8080/api/reviews?limit={}&page=1\".format(n_reviews)\n",
        "# Lây\n",
        "request = requests.get(review_url)"
      ]
    },
    {
      "cell_type": "code",
      "execution_count": 2,
      "metadata": {
        "colab": {
          "base_uri": "https://localhost:8080/"
        },
        "id": "sonB3ufG9oi7",
        "outputId": "9ec128b7-4193-43d1-bfbd-b52b32971e3e"
      },
      "outputs": [],
      "source": [
        "import pandas as pd\n",
        "\n",
        "raw_review_data = pd.read_csv(\"./data/reviews.csv\").iloc[:100000].to_dict(\"records\")"
      ]
    },
    {
      "cell_type": "code",
      "execution_count": 3,
      "metadata": {
        "id": "g78SMHt2_wkR"
      },
      "outputs": [],
      "source": [
        "def parser_infor_review(json):\n",
        "  d = dict()\n",
        "  d['user_id'] = json.get('user_id_review')\n",
        "  d['movie_id'] = json.get('movie_id')\n",
        "  d['rating'] = json.get('ratings')\n",
        "  d['agree'] = json.get('total_agree')\n",
        "\n",
        "  return d"
      ]
    },
    {
      "cell_type": "code",
      "execution_count": 4,
      "metadata": {
        "id": "PQqSkpWb_OYh"
      },
      "outputs": [],
      "source": [
        "review_data = []\n",
        "for infor in raw_review_data:\n",
        "    review_data.append(parser_infor_review(infor))"
      ]
    },
    {
      "cell_type": "code",
      "execution_count": 5,
      "metadata": {
        "colab": {
          "base_uri": "https://localhost:8080/",
          "height": 423
        },
        "id": "JbHbkYq7Al5p",
        "outputId": "9b0cd6f2-8017-40f8-88d5-a4185c75fd98"
      },
      "outputs": [],
      "source": [
        "df = pd.DataFrame(review_data)\n",
        "df = df[~df['rating'].isna()]"
      ]
    },
    {
      "cell_type": "code",
      "execution_count": 6,
      "metadata": {
        "colab": {
          "base_uri": "https://localhost:8080/",
          "height": 423
        },
        "id": "yqdYUryLA8Sa",
        "outputId": "f3e62e79-29dd-4d77-aa1a-d927b4f569bf"
      },
      "outputs": [
        {
          "data": {
            "text/html": [
              "<div>\n",
              "<style scoped>\n",
              "    .dataframe tbody tr th:only-of-type {\n",
              "        vertical-align: middle;\n",
              "    }\n",
              "\n",
              "    .dataframe tbody tr th {\n",
              "        vertical-align: top;\n",
              "    }\n",
              "\n",
              "    .dataframe thead th {\n",
              "        text-align: right;\n",
              "    }\n",
              "</style>\n",
              "<table border=\"1\" class=\"dataframe\">\n",
              "  <thead>\n",
              "    <tr style=\"text-align: right;\">\n",
              "      <th></th>\n",
              "      <th>user_id</th>\n",
              "      <th>movie_id</th>\n",
              "      <th>rating</th>\n",
              "      <th>agree</th>\n",
              "    </tr>\n",
              "  </thead>\n",
              "  <tbody>\n",
              "    <tr>\n",
              "      <th>1</th>\n",
              "      <td>ur2467618</td>\n",
              "      <td>tt0004972</td>\n",
              "      <td>3.0</td>\n",
              "      <td>98 out of 159</td>\n",
              "    </tr>\n",
              "    <tr>\n",
              "      <th>2</th>\n",
              "      <td>ur1888886</td>\n",
              "      <td>tt0004972</td>\n",
              "      <td>10.0</td>\n",
              "      <td>192 out of 321</td>\n",
              "    </tr>\n",
              "    <tr>\n",
              "      <th>3</th>\n",
              "      <td>ur15148330</td>\n",
              "      <td>tt0004972</td>\n",
              "      <td>8.0</td>\n",
              "      <td>38 out of 60</td>\n",
              "    </tr>\n",
              "    <tr>\n",
              "      <th>7</th>\n",
              "      <td>ur2670273</td>\n",
              "      <td>tt0004972</td>\n",
              "      <td>1.0</td>\n",
              "      <td>216 out of 401</td>\n",
              "    </tr>\n",
              "    <tr>\n",
              "      <th>8</th>\n",
              "      <td>ur16588387</td>\n",
              "      <td>tt0004972</td>\n",
              "      <td>1.0</td>\n",
              "      <td>173 out of 300</td>\n",
              "    </tr>\n",
              "    <tr>\n",
              "      <th>...</th>\n",
              "      <td>...</td>\n",
              "      <td>...</td>\n",
              "      <td>...</td>\n",
              "      <td>...</td>\n",
              "    </tr>\n",
              "    <tr>\n",
              "      <th>99994</th>\n",
              "      <td>ur13022713</td>\n",
              "      <td>tt0062622</td>\n",
              "      <td>10.0</td>\n",
              "      <td>4 out of 8</td>\n",
              "    </tr>\n",
              "    <tr>\n",
              "      <th>99996</th>\n",
              "      <td>ur45150762</td>\n",
              "      <td>tt0062622</td>\n",
              "      <td>4.0</td>\n",
              "      <td>3 out of 7</td>\n",
              "    </tr>\n",
              "    <tr>\n",
              "      <th>99997</th>\n",
              "      <td>ur90750895</td>\n",
              "      <td>tt0062622</td>\n",
              "      <td>1.0</td>\n",
              "      <td>7 out of 21</td>\n",
              "    </tr>\n",
              "    <tr>\n",
              "      <th>99998</th>\n",
              "      <td>ur0128216</td>\n",
              "      <td>tt0062622</td>\n",
              "      <td>9.0</td>\n",
              "      <td>4 out of 10</td>\n",
              "    </tr>\n",
              "    <tr>\n",
              "      <th>99999</th>\n",
              "      <td>ur17134874</td>\n",
              "      <td>tt0062622</td>\n",
              "      <td>1.0</td>\n",
              "      <td>19 out of 45</td>\n",
              "    </tr>\n",
              "  </tbody>\n",
              "</table>\n",
              "<p>86004 rows × 4 columns</p>\n",
              "</div>"
            ],
            "text/plain": [
              "          user_id   movie_id  rating           agree\n",
              "1       ur2467618  tt0004972     3.0   98 out of 159\n",
              "2       ur1888886  tt0004972    10.0  192 out of 321\n",
              "3      ur15148330  tt0004972     8.0    38 out of 60\n",
              "7       ur2670273  tt0004972     1.0  216 out of 401\n",
              "8      ur16588387  tt0004972     1.0  173 out of 300\n",
              "...           ...        ...     ...             ...\n",
              "99994  ur13022713  tt0062622    10.0      4 out of 8\n",
              "99996  ur45150762  tt0062622     4.0      3 out of 7\n",
              "99997  ur90750895  tt0062622     1.0     7 out of 21\n",
              "99998   ur0128216  tt0062622     9.0     4 out of 10\n",
              "99999  ur17134874  tt0062622     1.0    19 out of 45\n",
              "\n",
              "[86004 rows x 4 columns]"
            ]
          },
          "execution_count": 6,
          "metadata": {},
          "output_type": "execute_result"
        }
      ],
      "source": [
        "df['rating'] = df['rating'].apply(pd.to_numeric, errors='coerce')\n",
        "df"
      ]
    },
    {
      "cell_type": "code",
      "execution_count": 7,
      "metadata": {
        "colab": {
          "base_uri": "https://localhost:8080/",
          "height": 423
        },
        "id": "LkmvBuFbCA5_",
        "outputId": "01f00fc1-546f-4fab-a248-f795a4daa041"
      },
      "outputs": [
        {
          "data": {
            "text/html": [
              "<div>\n",
              "<style scoped>\n",
              "    .dataframe tbody tr th:only-of-type {\n",
              "        vertical-align: middle;\n",
              "    }\n",
              "\n",
              "    .dataframe tbody tr th {\n",
              "        vertical-align: top;\n",
              "    }\n",
              "\n",
              "    .dataframe thead th {\n",
              "        text-align: right;\n",
              "    }\n",
              "</style>\n",
              "<table border=\"1\" class=\"dataframe\">\n",
              "  <thead>\n",
              "    <tr style=\"text-align: right;\">\n",
              "      <th></th>\n",
              "      <th>user_id</th>\n",
              "      <th>movie_id</th>\n",
              "      <th>rating</th>\n",
              "      <th>agree</th>\n",
              "    </tr>\n",
              "  </thead>\n",
              "  <tbody>\n",
              "    <tr>\n",
              "      <th>1</th>\n",
              "      <td>ur2467618</td>\n",
              "      <td>tt0004972</td>\n",
              "      <td>3.0</td>\n",
              "      <td>98 out of 159</td>\n",
              "    </tr>\n",
              "    <tr>\n",
              "      <th>2</th>\n",
              "      <td>ur1888886</td>\n",
              "      <td>tt0004972</td>\n",
              "      <td>10.0</td>\n",
              "      <td>192 out of 321</td>\n",
              "    </tr>\n",
              "    <tr>\n",
              "      <th>3</th>\n",
              "      <td>ur15148330</td>\n",
              "      <td>tt0004972</td>\n",
              "      <td>8.0</td>\n",
              "      <td>38 out of 60</td>\n",
              "    </tr>\n",
              "    <tr>\n",
              "      <th>7</th>\n",
              "      <td>ur2670273</td>\n",
              "      <td>tt0004972</td>\n",
              "      <td>1.0</td>\n",
              "      <td>216 out of 401</td>\n",
              "    </tr>\n",
              "    <tr>\n",
              "      <th>8</th>\n",
              "      <td>ur16588387</td>\n",
              "      <td>tt0004972</td>\n",
              "      <td>1.0</td>\n",
              "      <td>173 out of 300</td>\n",
              "    </tr>\n",
              "    <tr>\n",
              "      <th>...</th>\n",
              "      <td>...</td>\n",
              "      <td>...</td>\n",
              "      <td>...</td>\n",
              "      <td>...</td>\n",
              "    </tr>\n",
              "    <tr>\n",
              "      <th>99994</th>\n",
              "      <td>ur13022713</td>\n",
              "      <td>tt0062622</td>\n",
              "      <td>10.0</td>\n",
              "      <td>4 out of 8</td>\n",
              "    </tr>\n",
              "    <tr>\n",
              "      <th>99996</th>\n",
              "      <td>ur45150762</td>\n",
              "      <td>tt0062622</td>\n",
              "      <td>4.0</td>\n",
              "      <td>3 out of 7</td>\n",
              "    </tr>\n",
              "    <tr>\n",
              "      <th>99997</th>\n",
              "      <td>ur90750895</td>\n",
              "      <td>tt0062622</td>\n",
              "      <td>1.0</td>\n",
              "      <td>7 out of 21</td>\n",
              "    </tr>\n",
              "    <tr>\n",
              "      <th>99998</th>\n",
              "      <td>ur0128216</td>\n",
              "      <td>tt0062622</td>\n",
              "      <td>9.0</td>\n",
              "      <td>4 out of 10</td>\n",
              "    </tr>\n",
              "    <tr>\n",
              "      <th>99999</th>\n",
              "      <td>ur17134874</td>\n",
              "      <td>tt0062622</td>\n",
              "      <td>1.0</td>\n",
              "      <td>19 out of 45</td>\n",
              "    </tr>\n",
              "  </tbody>\n",
              "</table>\n",
              "<p>86004 rows × 4 columns</p>\n",
              "</div>"
            ],
            "text/plain": [
              "          user_id   movie_id  rating           agree\n",
              "1       ur2467618  tt0004972     3.0   98 out of 159\n",
              "2       ur1888886  tt0004972    10.0  192 out of 321\n",
              "3      ur15148330  tt0004972     8.0    38 out of 60\n",
              "7       ur2670273  tt0004972     1.0  216 out of 401\n",
              "8      ur16588387  tt0004972     1.0  173 out of 300\n",
              "...           ...        ...     ...             ...\n",
              "99994  ur13022713  tt0062622    10.0      4 out of 8\n",
              "99996  ur45150762  tt0062622     4.0      3 out of 7\n",
              "99997  ur90750895  tt0062622     1.0     7 out of 21\n",
              "99998   ur0128216  tt0062622     9.0     4 out of 10\n",
              "99999  ur17134874  tt0062622     1.0    19 out of 45\n",
              "\n",
              "[86004 rows x 4 columns]"
            ]
          },
          "execution_count": 7,
          "metadata": {},
          "output_type": "execute_result"
        }
      ],
      "source": [
        "df = df[df['rating'] != {'$numberDouble': 'NaN'}]\n",
        "df"
      ]
    },
    {
      "cell_type": "markdown",
      "metadata": {
        "id": "4Yhzm998vG11"
      },
      "source": [
        "### *Movie data*"
      ]
    },
    {
      "cell_type": "code",
      "execution_count": 8,
      "metadata": {
        "id": "C1PJ7AESByf9"
      },
      "outputs": [
        {
          "ename": "ConnectionError",
          "evalue": "HTTPConnectionPool(host='42.117.27.86', port=8080): Max retries exceeded with url: /api/movies?limit=50000&page=1 (Caused by NewConnectionError('<urllib3.connection.HTTPConnection object at 0x000002DE0466B580>: Failed to establish a new connection: [WinError 10060] A connection attempt failed because the connected party did not properly respond after a period of time, or established connection failed because connected host has failed to respond'))",
          "output_type": "error",
          "traceback": [
            "\u001b[1;31m---------------------------------------------------------------------------\u001b[0m",
            "\u001b[1;31mTimeoutError\u001b[0m                              Traceback (most recent call last)",
            "File \u001b[1;32mc:\\Users\\ADMIN\\AppData\\Local\\Programs\\Python\\Python39\\lib\\site-packages\\urllib3\\connection.py:174\u001b[0m, in \u001b[0;36mHTTPConnection._new_conn\u001b[1;34m(self)\u001b[0m\n\u001b[0;32m    173\u001b[0m \u001b[38;5;28;01mtry\u001b[39;00m:\n\u001b[1;32m--> 174\u001b[0m     conn \u001b[38;5;241m=\u001b[39m connection\u001b[38;5;241m.\u001b[39mcreate_connection(\n\u001b[0;32m    175\u001b[0m         (\u001b[38;5;28mself\u001b[39m\u001b[38;5;241m.\u001b[39m_dns_host, \u001b[38;5;28mself\u001b[39m\u001b[38;5;241m.\u001b[39mport), \u001b[38;5;28mself\u001b[39m\u001b[38;5;241m.\u001b[39mtimeout, \u001b[38;5;241m*\u001b[39m\u001b[38;5;241m*\u001b[39mextra_kw\n\u001b[0;32m    176\u001b[0m     )\n\u001b[0;32m    178\u001b[0m \u001b[38;5;28;01mexcept\u001b[39;00m SocketTimeout:\n",
            "File \u001b[1;32mc:\\Users\\ADMIN\\AppData\\Local\\Programs\\Python\\Python39\\lib\\site-packages\\urllib3\\util\\connection.py:95\u001b[0m, in \u001b[0;36mcreate_connection\u001b[1;34m(address, timeout, source_address, socket_options)\u001b[0m\n\u001b[0;32m     94\u001b[0m \u001b[38;5;28;01mif\u001b[39;00m err \u001b[38;5;129;01mis\u001b[39;00m \u001b[38;5;129;01mnot\u001b[39;00m \u001b[38;5;28;01mNone\u001b[39;00m:\n\u001b[1;32m---> 95\u001b[0m     \u001b[38;5;28;01mraise\u001b[39;00m err\n\u001b[0;32m     97\u001b[0m \u001b[38;5;28;01mraise\u001b[39;00m socket\u001b[38;5;241m.\u001b[39merror(\u001b[38;5;124m\"\u001b[39m\u001b[38;5;124mgetaddrinfo returns an empty list\u001b[39m\u001b[38;5;124m\"\u001b[39m)\n",
            "File \u001b[1;32mc:\\Users\\ADMIN\\AppData\\Local\\Programs\\Python\\Python39\\lib\\site-packages\\urllib3\\util\\connection.py:85\u001b[0m, in \u001b[0;36mcreate_connection\u001b[1;34m(address, timeout, source_address, socket_options)\u001b[0m\n\u001b[0;32m     84\u001b[0m     sock\u001b[38;5;241m.\u001b[39mbind(source_address)\n\u001b[1;32m---> 85\u001b[0m \u001b[43msock\u001b[49m\u001b[38;5;241;43m.\u001b[39;49m\u001b[43mconnect\u001b[49m\u001b[43m(\u001b[49m\u001b[43msa\u001b[49m\u001b[43m)\u001b[49m\n\u001b[0;32m     86\u001b[0m \u001b[38;5;28;01mreturn\u001b[39;00m sock\n",
            "\u001b[1;31mTimeoutError\u001b[0m: [WinError 10060] A connection attempt failed because the connected party did not properly respond after a period of time, or established connection failed because connected host has failed to respond",
            "\nDuring handling of the above exception, another exception occurred:\n",
            "\u001b[1;31mNewConnectionError\u001b[0m                        Traceback (most recent call last)",
            "File \u001b[1;32mc:\\Users\\ADMIN\\AppData\\Local\\Programs\\Python\\Python39\\lib\\site-packages\\urllib3\\connectionpool.py:714\u001b[0m, in \u001b[0;36mHTTPConnectionPool.urlopen\u001b[1;34m(self, method, url, body, headers, retries, redirect, assert_same_host, timeout, pool_timeout, release_conn, chunked, body_pos, **response_kw)\u001b[0m\n\u001b[0;32m    713\u001b[0m \u001b[38;5;66;03m# Make the request on the httplib connection object.\u001b[39;00m\n\u001b[1;32m--> 714\u001b[0m httplib_response \u001b[38;5;241m=\u001b[39m \u001b[38;5;28;43mself\u001b[39;49m\u001b[38;5;241;43m.\u001b[39;49m\u001b[43m_make_request\u001b[49m\u001b[43m(\u001b[49m\n\u001b[0;32m    715\u001b[0m \u001b[43m    \u001b[49m\u001b[43mconn\u001b[49m\u001b[43m,\u001b[49m\n\u001b[0;32m    716\u001b[0m \u001b[43m    \u001b[49m\u001b[43mmethod\u001b[49m\u001b[43m,\u001b[49m\n\u001b[0;32m    717\u001b[0m \u001b[43m    \u001b[49m\u001b[43murl\u001b[49m\u001b[43m,\u001b[49m\n\u001b[0;32m    718\u001b[0m \u001b[43m    \u001b[49m\u001b[43mtimeout\u001b[49m\u001b[38;5;241;43m=\u001b[39;49m\u001b[43mtimeout_obj\u001b[49m\u001b[43m,\u001b[49m\n\u001b[0;32m    719\u001b[0m \u001b[43m    \u001b[49m\u001b[43mbody\u001b[49m\u001b[38;5;241;43m=\u001b[39;49m\u001b[43mbody\u001b[49m\u001b[43m,\u001b[49m\n\u001b[0;32m    720\u001b[0m \u001b[43m    \u001b[49m\u001b[43mheaders\u001b[49m\u001b[38;5;241;43m=\u001b[39;49m\u001b[43mheaders\u001b[49m\u001b[43m,\u001b[49m\n\u001b[0;32m    721\u001b[0m \u001b[43m    \u001b[49m\u001b[43mchunked\u001b[49m\u001b[38;5;241;43m=\u001b[39;49m\u001b[43mchunked\u001b[49m\u001b[43m,\u001b[49m\n\u001b[0;32m    722\u001b[0m \u001b[43m\u001b[49m\u001b[43m)\u001b[49m\n\u001b[0;32m    724\u001b[0m \u001b[38;5;66;03m# If we're going to release the connection in ``finally:``, then\u001b[39;00m\n\u001b[0;32m    725\u001b[0m \u001b[38;5;66;03m# the response doesn't need to know about the connection. Otherwise\u001b[39;00m\n\u001b[0;32m    726\u001b[0m \u001b[38;5;66;03m# it will also try to release it and we'll have a double-release\u001b[39;00m\n\u001b[0;32m    727\u001b[0m \u001b[38;5;66;03m# mess.\u001b[39;00m\n",
            "File \u001b[1;32mc:\\Users\\ADMIN\\AppData\\Local\\Programs\\Python\\Python39\\lib\\site-packages\\urllib3\\connectionpool.py:415\u001b[0m, in \u001b[0;36mHTTPConnectionPool._make_request\u001b[1;34m(self, conn, method, url, timeout, chunked, **httplib_request_kw)\u001b[0m\n\u001b[0;32m    414\u001b[0m     \u001b[38;5;28;01melse\u001b[39;00m:\n\u001b[1;32m--> 415\u001b[0m         conn\u001b[38;5;241m.\u001b[39mrequest(method, url, \u001b[38;5;241m*\u001b[39m\u001b[38;5;241m*\u001b[39mhttplib_request_kw)\n\u001b[0;32m    417\u001b[0m \u001b[38;5;66;03m# We are swallowing BrokenPipeError (errno.EPIPE) since the server is\u001b[39;00m\n\u001b[0;32m    418\u001b[0m \u001b[38;5;66;03m# legitimately able to close the connection after sending a valid response.\u001b[39;00m\n\u001b[0;32m    419\u001b[0m \u001b[38;5;66;03m# With this behaviour, the received response is still readable.\u001b[39;00m\n",
            "File \u001b[1;32mc:\\Users\\ADMIN\\AppData\\Local\\Programs\\Python\\Python39\\lib\\site-packages\\urllib3\\connection.py:244\u001b[0m, in \u001b[0;36mHTTPConnection.request\u001b[1;34m(self, method, url, body, headers)\u001b[0m\n\u001b[0;32m    243\u001b[0m     headers[\u001b[38;5;124m\"\u001b[39m\u001b[38;5;124mUser-Agent\u001b[39m\u001b[38;5;124m\"\u001b[39m] \u001b[38;5;241m=\u001b[39m _get_default_user_agent()\n\u001b[1;32m--> 244\u001b[0m \u001b[38;5;28;43msuper\u001b[39;49m\u001b[43m(\u001b[49m\u001b[43mHTTPConnection\u001b[49m\u001b[43m,\u001b[49m\u001b[43m \u001b[49m\u001b[38;5;28;43mself\u001b[39;49m\u001b[43m)\u001b[49m\u001b[38;5;241;43m.\u001b[39;49m\u001b[43mrequest\u001b[49m\u001b[43m(\u001b[49m\u001b[43mmethod\u001b[49m\u001b[43m,\u001b[49m\u001b[43m \u001b[49m\u001b[43murl\u001b[49m\u001b[43m,\u001b[49m\u001b[43m \u001b[49m\u001b[43mbody\u001b[49m\u001b[38;5;241;43m=\u001b[39;49m\u001b[43mbody\u001b[49m\u001b[43m,\u001b[49m\u001b[43m \u001b[49m\u001b[43mheaders\u001b[49m\u001b[38;5;241;43m=\u001b[39;49m\u001b[43mheaders\u001b[49m\u001b[43m)\u001b[49m\n",
            "File \u001b[1;32mc:\\Users\\ADMIN\\AppData\\Local\\Programs\\Python\\Python39\\lib\\http\\client.py:1285\u001b[0m, in \u001b[0;36mHTTPConnection.request\u001b[1;34m(self, method, url, body, headers, encode_chunked)\u001b[0m\n\u001b[0;32m   1284\u001b[0m \u001b[38;5;250m\u001b[39m\u001b[38;5;124;03m\"\"\"Send a complete request to the server.\"\"\"\u001b[39;00m\n\u001b[1;32m-> 1285\u001b[0m \u001b[38;5;28;43mself\u001b[39;49m\u001b[38;5;241;43m.\u001b[39;49m\u001b[43m_send_request\u001b[49m\u001b[43m(\u001b[49m\u001b[43mmethod\u001b[49m\u001b[43m,\u001b[49m\u001b[43m \u001b[49m\u001b[43murl\u001b[49m\u001b[43m,\u001b[49m\u001b[43m \u001b[49m\u001b[43mbody\u001b[49m\u001b[43m,\u001b[49m\u001b[43m \u001b[49m\u001b[43mheaders\u001b[49m\u001b[43m,\u001b[49m\u001b[43m \u001b[49m\u001b[43mencode_chunked\u001b[49m\u001b[43m)\u001b[49m\n",
            "File \u001b[1;32mc:\\Users\\ADMIN\\AppData\\Local\\Programs\\Python\\Python39\\lib\\http\\client.py:1331\u001b[0m, in \u001b[0;36mHTTPConnection._send_request\u001b[1;34m(self, method, url, body, headers, encode_chunked)\u001b[0m\n\u001b[0;32m   1330\u001b[0m     body \u001b[38;5;241m=\u001b[39m _encode(body, \u001b[38;5;124m'\u001b[39m\u001b[38;5;124mbody\u001b[39m\u001b[38;5;124m'\u001b[39m)\n\u001b[1;32m-> 1331\u001b[0m \u001b[38;5;28;43mself\u001b[39;49m\u001b[38;5;241;43m.\u001b[39;49m\u001b[43mendheaders\u001b[49m\u001b[43m(\u001b[49m\u001b[43mbody\u001b[49m\u001b[43m,\u001b[49m\u001b[43m \u001b[49m\u001b[43mencode_chunked\u001b[49m\u001b[38;5;241;43m=\u001b[39;49m\u001b[43mencode_chunked\u001b[49m\u001b[43m)\u001b[49m\n",
            "File \u001b[1;32mc:\\Users\\ADMIN\\AppData\\Local\\Programs\\Python\\Python39\\lib\\http\\client.py:1280\u001b[0m, in \u001b[0;36mHTTPConnection.endheaders\u001b[1;34m(self, message_body, encode_chunked)\u001b[0m\n\u001b[0;32m   1279\u001b[0m     \u001b[38;5;28;01mraise\u001b[39;00m CannotSendHeader()\n\u001b[1;32m-> 1280\u001b[0m \u001b[38;5;28;43mself\u001b[39;49m\u001b[38;5;241;43m.\u001b[39;49m\u001b[43m_send_output\u001b[49m\u001b[43m(\u001b[49m\u001b[43mmessage_body\u001b[49m\u001b[43m,\u001b[49m\u001b[43m \u001b[49m\u001b[43mencode_chunked\u001b[49m\u001b[38;5;241;43m=\u001b[39;49m\u001b[43mencode_chunked\u001b[49m\u001b[43m)\u001b[49m\n",
            "File \u001b[1;32mc:\\Users\\ADMIN\\AppData\\Local\\Programs\\Python\\Python39\\lib\\http\\client.py:1040\u001b[0m, in \u001b[0;36mHTTPConnection._send_output\u001b[1;34m(self, message_body, encode_chunked)\u001b[0m\n\u001b[0;32m   1039\u001b[0m \u001b[38;5;28;01mdel\u001b[39;00m \u001b[38;5;28mself\u001b[39m\u001b[38;5;241m.\u001b[39m_buffer[:]\n\u001b[1;32m-> 1040\u001b[0m \u001b[38;5;28;43mself\u001b[39;49m\u001b[38;5;241;43m.\u001b[39;49m\u001b[43msend\u001b[49m\u001b[43m(\u001b[49m\u001b[43mmsg\u001b[49m\u001b[43m)\u001b[49m\n\u001b[0;32m   1042\u001b[0m \u001b[38;5;28;01mif\u001b[39;00m message_body \u001b[38;5;129;01mis\u001b[39;00m \u001b[38;5;129;01mnot\u001b[39;00m \u001b[38;5;28;01mNone\u001b[39;00m:\n\u001b[0;32m   1043\u001b[0m \n\u001b[0;32m   1044\u001b[0m     \u001b[38;5;66;03m# create a consistent interface to message_body\u001b[39;00m\n",
            "File \u001b[1;32mc:\\Users\\ADMIN\\AppData\\Local\\Programs\\Python\\Python39\\lib\\http\\client.py:980\u001b[0m, in \u001b[0;36mHTTPConnection.send\u001b[1;34m(self, data)\u001b[0m\n\u001b[0;32m    979\u001b[0m \u001b[38;5;28;01mif\u001b[39;00m \u001b[38;5;28mself\u001b[39m\u001b[38;5;241m.\u001b[39mauto_open:\n\u001b[1;32m--> 980\u001b[0m     \u001b[38;5;28;43mself\u001b[39;49m\u001b[38;5;241;43m.\u001b[39;49m\u001b[43mconnect\u001b[49m\u001b[43m(\u001b[49m\u001b[43m)\u001b[49m\n\u001b[0;32m    981\u001b[0m \u001b[38;5;28;01melse\u001b[39;00m:\n",
            "File \u001b[1;32mc:\\Users\\ADMIN\\AppData\\Local\\Programs\\Python\\Python39\\lib\\site-packages\\urllib3\\connection.py:205\u001b[0m, in \u001b[0;36mHTTPConnection.connect\u001b[1;34m(self)\u001b[0m\n\u001b[0;32m    204\u001b[0m \u001b[38;5;28;01mdef\u001b[39;00m \u001b[38;5;21mconnect\u001b[39m(\u001b[38;5;28mself\u001b[39m):\n\u001b[1;32m--> 205\u001b[0m     conn \u001b[38;5;241m=\u001b[39m \u001b[38;5;28;43mself\u001b[39;49m\u001b[38;5;241;43m.\u001b[39;49m\u001b[43m_new_conn\u001b[49m\u001b[43m(\u001b[49m\u001b[43m)\u001b[49m\n\u001b[0;32m    206\u001b[0m     \u001b[38;5;28mself\u001b[39m\u001b[38;5;241m.\u001b[39m_prepare_conn(conn)\n",
            "File \u001b[1;32mc:\\Users\\ADMIN\\AppData\\Local\\Programs\\Python\\Python39\\lib\\site-packages\\urllib3\\connection.py:186\u001b[0m, in \u001b[0;36mHTTPConnection._new_conn\u001b[1;34m(self)\u001b[0m\n\u001b[0;32m    185\u001b[0m \u001b[38;5;28;01mexcept\u001b[39;00m SocketError \u001b[38;5;28;01mas\u001b[39;00m e:\n\u001b[1;32m--> 186\u001b[0m     \u001b[38;5;28;01mraise\u001b[39;00m NewConnectionError(\n\u001b[0;32m    187\u001b[0m         \u001b[38;5;28mself\u001b[39m, \u001b[38;5;124m\"\u001b[39m\u001b[38;5;124mFailed to establish a new connection: \u001b[39m\u001b[38;5;132;01m%s\u001b[39;00m\u001b[38;5;124m\"\u001b[39m \u001b[38;5;241m%\u001b[39m e\n\u001b[0;32m    188\u001b[0m     )\n\u001b[0;32m    190\u001b[0m \u001b[38;5;28;01mreturn\u001b[39;00m conn\n",
            "\u001b[1;31mNewConnectionError\u001b[0m: <urllib3.connection.HTTPConnection object at 0x000002DE0466B580>: Failed to establish a new connection: [WinError 10060] A connection attempt failed because the connected party did not properly respond after a period of time, or established connection failed because connected host has failed to respond",
            "\nDuring handling of the above exception, another exception occurred:\n",
            "\u001b[1;31mMaxRetryError\u001b[0m                             Traceback (most recent call last)",
            "File \u001b[1;32mc:\\Users\\ADMIN\\AppData\\Local\\Programs\\Python\\Python39\\lib\\site-packages\\requests\\adapters.py:486\u001b[0m, in \u001b[0;36mHTTPAdapter.send\u001b[1;34m(self, request, stream, timeout, verify, cert, proxies)\u001b[0m\n\u001b[0;32m    485\u001b[0m \u001b[38;5;28;01mtry\u001b[39;00m:\n\u001b[1;32m--> 486\u001b[0m     resp \u001b[38;5;241m=\u001b[39m \u001b[43mconn\u001b[49m\u001b[38;5;241;43m.\u001b[39;49m\u001b[43murlopen\u001b[49m\u001b[43m(\u001b[49m\n\u001b[0;32m    487\u001b[0m \u001b[43m        \u001b[49m\u001b[43mmethod\u001b[49m\u001b[38;5;241;43m=\u001b[39;49m\u001b[43mrequest\u001b[49m\u001b[38;5;241;43m.\u001b[39;49m\u001b[43mmethod\u001b[49m\u001b[43m,\u001b[49m\n\u001b[0;32m    488\u001b[0m \u001b[43m        \u001b[49m\u001b[43murl\u001b[49m\u001b[38;5;241;43m=\u001b[39;49m\u001b[43murl\u001b[49m\u001b[43m,\u001b[49m\n\u001b[0;32m    489\u001b[0m \u001b[43m        \u001b[49m\u001b[43mbody\u001b[49m\u001b[38;5;241;43m=\u001b[39;49m\u001b[43mrequest\u001b[49m\u001b[38;5;241;43m.\u001b[39;49m\u001b[43mbody\u001b[49m\u001b[43m,\u001b[49m\n\u001b[0;32m    490\u001b[0m \u001b[43m        \u001b[49m\u001b[43mheaders\u001b[49m\u001b[38;5;241;43m=\u001b[39;49m\u001b[43mrequest\u001b[49m\u001b[38;5;241;43m.\u001b[39;49m\u001b[43mheaders\u001b[49m\u001b[43m,\u001b[49m\n\u001b[0;32m    491\u001b[0m \u001b[43m        \u001b[49m\u001b[43mredirect\u001b[49m\u001b[38;5;241;43m=\u001b[39;49m\u001b[38;5;28;43;01mFalse\u001b[39;49;00m\u001b[43m,\u001b[49m\n\u001b[0;32m    492\u001b[0m \u001b[43m        \u001b[49m\u001b[43massert_same_host\u001b[49m\u001b[38;5;241;43m=\u001b[39;49m\u001b[38;5;28;43;01mFalse\u001b[39;49;00m\u001b[43m,\u001b[49m\n\u001b[0;32m    493\u001b[0m \u001b[43m        \u001b[49m\u001b[43mpreload_content\u001b[49m\u001b[38;5;241;43m=\u001b[39;49m\u001b[38;5;28;43;01mFalse\u001b[39;49;00m\u001b[43m,\u001b[49m\n\u001b[0;32m    494\u001b[0m \u001b[43m        \u001b[49m\u001b[43mdecode_content\u001b[49m\u001b[38;5;241;43m=\u001b[39;49m\u001b[38;5;28;43;01mFalse\u001b[39;49;00m\u001b[43m,\u001b[49m\n\u001b[0;32m    495\u001b[0m \u001b[43m        \u001b[49m\u001b[43mretries\u001b[49m\u001b[38;5;241;43m=\u001b[39;49m\u001b[38;5;28;43mself\u001b[39;49m\u001b[38;5;241;43m.\u001b[39;49m\u001b[43mmax_retries\u001b[49m\u001b[43m,\u001b[49m\n\u001b[0;32m    496\u001b[0m \u001b[43m        \u001b[49m\u001b[43mtimeout\u001b[49m\u001b[38;5;241;43m=\u001b[39;49m\u001b[43mtimeout\u001b[49m\u001b[43m,\u001b[49m\n\u001b[0;32m    497\u001b[0m \u001b[43m        \u001b[49m\u001b[43mchunked\u001b[49m\u001b[38;5;241;43m=\u001b[39;49m\u001b[43mchunked\u001b[49m\u001b[43m,\u001b[49m\n\u001b[0;32m    498\u001b[0m \u001b[43m    \u001b[49m\u001b[43m)\u001b[49m\n\u001b[0;32m    500\u001b[0m \u001b[38;5;28;01mexcept\u001b[39;00m (ProtocolError, \u001b[38;5;167;01mOSError\u001b[39;00m) \u001b[38;5;28;01mas\u001b[39;00m err:\n",
            "File \u001b[1;32mc:\\Users\\ADMIN\\AppData\\Local\\Programs\\Python\\Python39\\lib\\site-packages\\urllib3\\connectionpool.py:798\u001b[0m, in \u001b[0;36mHTTPConnectionPool.urlopen\u001b[1;34m(self, method, url, body, headers, retries, redirect, assert_same_host, timeout, pool_timeout, release_conn, chunked, body_pos, **response_kw)\u001b[0m\n\u001b[0;32m    796\u001b[0m     e \u001b[38;5;241m=\u001b[39m ProtocolError(\u001b[38;5;124m\"\u001b[39m\u001b[38;5;124mConnection aborted.\u001b[39m\u001b[38;5;124m\"\u001b[39m, e)\n\u001b[1;32m--> 798\u001b[0m retries \u001b[38;5;241m=\u001b[39m \u001b[43mretries\u001b[49m\u001b[38;5;241;43m.\u001b[39;49m\u001b[43mincrement\u001b[49m\u001b[43m(\u001b[49m\n\u001b[0;32m    799\u001b[0m \u001b[43m    \u001b[49m\u001b[43mmethod\u001b[49m\u001b[43m,\u001b[49m\u001b[43m \u001b[49m\u001b[43murl\u001b[49m\u001b[43m,\u001b[49m\u001b[43m \u001b[49m\u001b[43merror\u001b[49m\u001b[38;5;241;43m=\u001b[39;49m\u001b[43me\u001b[49m\u001b[43m,\u001b[49m\u001b[43m \u001b[49m\u001b[43m_pool\u001b[49m\u001b[38;5;241;43m=\u001b[39;49m\u001b[38;5;28;43mself\u001b[39;49m\u001b[43m,\u001b[49m\u001b[43m \u001b[49m\u001b[43m_stacktrace\u001b[49m\u001b[38;5;241;43m=\u001b[39;49m\u001b[43msys\u001b[49m\u001b[38;5;241;43m.\u001b[39;49m\u001b[43mexc_info\u001b[49m\u001b[43m(\u001b[49m\u001b[43m)\u001b[49m\u001b[43m[\u001b[49m\u001b[38;5;241;43m2\u001b[39;49m\u001b[43m]\u001b[49m\n\u001b[0;32m    800\u001b[0m \u001b[43m\u001b[49m\u001b[43m)\u001b[49m\n\u001b[0;32m    801\u001b[0m retries\u001b[38;5;241m.\u001b[39msleep()\n",
            "File \u001b[1;32mc:\\Users\\ADMIN\\AppData\\Local\\Programs\\Python\\Python39\\lib\\site-packages\\urllib3\\util\\retry.py:592\u001b[0m, in \u001b[0;36mRetry.increment\u001b[1;34m(self, method, url, response, error, _pool, _stacktrace)\u001b[0m\n\u001b[0;32m    591\u001b[0m \u001b[38;5;28;01mif\u001b[39;00m new_retry\u001b[38;5;241m.\u001b[39mis_exhausted():\n\u001b[1;32m--> 592\u001b[0m     \u001b[38;5;28;01mraise\u001b[39;00m MaxRetryError(_pool, url, error \u001b[38;5;129;01mor\u001b[39;00m ResponseError(cause))\n\u001b[0;32m    594\u001b[0m log\u001b[38;5;241m.\u001b[39mdebug(\u001b[38;5;124m\"\u001b[39m\u001b[38;5;124mIncremented Retry for (url=\u001b[39m\u001b[38;5;124m'\u001b[39m\u001b[38;5;132;01m%s\u001b[39;00m\u001b[38;5;124m'\u001b[39m\u001b[38;5;124m): \u001b[39m\u001b[38;5;132;01m%r\u001b[39;00m\u001b[38;5;124m\"\u001b[39m, url, new_retry)\n",
            "\u001b[1;31mMaxRetryError\u001b[0m: HTTPConnectionPool(host='42.117.27.86', port=8080): Max retries exceeded with url: /api/movies?limit=50000&page=1 (Caused by NewConnectionError('<urllib3.connection.HTTPConnection object at 0x000002DE0466B580>: Failed to establish a new connection: [WinError 10060] A connection attempt failed because the connected party did not properly respond after a period of time, or established connection failed because connected host has failed to respond'))",
            "\nDuring handling of the above exception, another exception occurred:\n",
            "\u001b[1;31mConnectionError\u001b[0m                           Traceback (most recent call last)",
            "Cell \u001b[1;32mIn[8], line 3\u001b[0m\n\u001b[0;32m      1\u001b[0m n_movies \u001b[38;5;241m=\u001b[39m \u001b[38;5;241m50000\u001b[39m\n\u001b[0;32m      2\u001b[0m movie_url \u001b[38;5;241m=\u001b[39m \u001b[38;5;124m\"\u001b[39m\u001b[38;5;124mhttp://42.117.27.86:8080/api/movies?limit=\u001b[39m\u001b[38;5;132;01m{}\u001b[39;00m\u001b[38;5;124m&page=1\u001b[39m\u001b[38;5;124m\"\u001b[39m\u001b[38;5;241m.\u001b[39mformat(n_movies)\n\u001b[1;32m----> 3\u001b[0m request \u001b[38;5;241m=\u001b[39m \u001b[43mrequests\u001b[49m\u001b[38;5;241;43m.\u001b[39;49m\u001b[43mget\u001b[49m\u001b[43m(\u001b[49m\u001b[43mmovie_url\u001b[49m\u001b[43m)\u001b[49m\n",
            "File \u001b[1;32mc:\\Users\\ADMIN\\AppData\\Local\\Programs\\Python\\Python39\\lib\\site-packages\\requests\\api.py:73\u001b[0m, in \u001b[0;36mget\u001b[1;34m(url, params, **kwargs)\u001b[0m\n\u001b[0;32m     62\u001b[0m \u001b[38;5;28;01mdef\u001b[39;00m \u001b[38;5;21mget\u001b[39m(url, params\u001b[38;5;241m=\u001b[39m\u001b[38;5;28;01mNone\u001b[39;00m, \u001b[38;5;241m*\u001b[39m\u001b[38;5;241m*\u001b[39mkwargs):\n\u001b[0;32m     63\u001b[0m \u001b[38;5;250m    \u001b[39m\u001b[38;5;124mr\u001b[39m\u001b[38;5;124;03m\"\"\"Sends a GET request.\u001b[39;00m\n\u001b[0;32m     64\u001b[0m \n\u001b[0;32m     65\u001b[0m \u001b[38;5;124;03m    :param url: URL for the new :class:`Request` object.\u001b[39;00m\n\u001b[1;32m   (...)\u001b[0m\n\u001b[0;32m     70\u001b[0m \u001b[38;5;124;03m    :rtype: requests.Response\u001b[39;00m\n\u001b[0;32m     71\u001b[0m \u001b[38;5;124;03m    \"\"\"\u001b[39;00m\n\u001b[1;32m---> 73\u001b[0m     \u001b[38;5;28;01mreturn\u001b[39;00m request(\u001b[38;5;124m\"\u001b[39m\u001b[38;5;124mget\u001b[39m\u001b[38;5;124m\"\u001b[39m, url, params\u001b[38;5;241m=\u001b[39mparams, \u001b[38;5;241m*\u001b[39m\u001b[38;5;241m*\u001b[39mkwargs)\n",
            "File \u001b[1;32mc:\\Users\\ADMIN\\AppData\\Local\\Programs\\Python\\Python39\\lib\\site-packages\\requests\\api.py:59\u001b[0m, in \u001b[0;36mrequest\u001b[1;34m(method, url, **kwargs)\u001b[0m\n\u001b[0;32m     55\u001b[0m \u001b[38;5;66;03m# By using the 'with' statement we are sure the session is closed, thus we\u001b[39;00m\n\u001b[0;32m     56\u001b[0m \u001b[38;5;66;03m# avoid leaving sockets open which can trigger a ResourceWarning in some\u001b[39;00m\n\u001b[0;32m     57\u001b[0m \u001b[38;5;66;03m# cases, and look like a memory leak in others.\u001b[39;00m\n\u001b[0;32m     58\u001b[0m \u001b[38;5;28;01mwith\u001b[39;00m sessions\u001b[38;5;241m.\u001b[39mSession() \u001b[38;5;28;01mas\u001b[39;00m session:\n\u001b[1;32m---> 59\u001b[0m     \u001b[38;5;28;01mreturn\u001b[39;00m session\u001b[38;5;241m.\u001b[39mrequest(method\u001b[38;5;241m=\u001b[39mmethod, url\u001b[38;5;241m=\u001b[39murl, \u001b[38;5;241m*\u001b[39m\u001b[38;5;241m*\u001b[39mkwargs)\n",
            "File \u001b[1;32mc:\\Users\\ADMIN\\AppData\\Local\\Programs\\Python\\Python39\\lib\\site-packages\\requests\\sessions.py:589\u001b[0m, in \u001b[0;36mSession.request\u001b[1;34m(self, method, url, params, data, headers, cookies, files, auth, timeout, allow_redirects, proxies, hooks, stream, verify, cert, json)\u001b[0m\n\u001b[0;32m    584\u001b[0m send_kwargs \u001b[38;5;241m=\u001b[39m {\n\u001b[0;32m    585\u001b[0m     \u001b[38;5;124m\"\u001b[39m\u001b[38;5;124mtimeout\u001b[39m\u001b[38;5;124m\"\u001b[39m: timeout,\n\u001b[0;32m    586\u001b[0m     \u001b[38;5;124m\"\u001b[39m\u001b[38;5;124mallow_redirects\u001b[39m\u001b[38;5;124m\"\u001b[39m: allow_redirects,\n\u001b[0;32m    587\u001b[0m }\n\u001b[0;32m    588\u001b[0m send_kwargs\u001b[38;5;241m.\u001b[39mupdate(settings)\n\u001b[1;32m--> 589\u001b[0m resp \u001b[38;5;241m=\u001b[39m \u001b[38;5;28mself\u001b[39m\u001b[38;5;241m.\u001b[39msend(prep, \u001b[38;5;241m*\u001b[39m\u001b[38;5;241m*\u001b[39msend_kwargs)\n\u001b[0;32m    591\u001b[0m \u001b[38;5;28;01mreturn\u001b[39;00m resp\n",
            "File \u001b[1;32mc:\\Users\\ADMIN\\AppData\\Local\\Programs\\Python\\Python39\\lib\\site-packages\\requests\\sessions.py:703\u001b[0m, in \u001b[0;36mSession.send\u001b[1;34m(self, request, **kwargs)\u001b[0m\n\u001b[0;32m    700\u001b[0m start \u001b[38;5;241m=\u001b[39m preferred_clock()\n\u001b[0;32m    702\u001b[0m \u001b[38;5;66;03m# Send the request\u001b[39;00m\n\u001b[1;32m--> 703\u001b[0m r \u001b[38;5;241m=\u001b[39m adapter\u001b[38;5;241m.\u001b[39msend(request, \u001b[38;5;241m*\u001b[39m\u001b[38;5;241m*\u001b[39mkwargs)\n\u001b[0;32m    705\u001b[0m \u001b[38;5;66;03m# Total elapsed time of the request (approximately)\u001b[39;00m\n\u001b[0;32m    706\u001b[0m elapsed \u001b[38;5;241m=\u001b[39m preferred_clock() \u001b[38;5;241m-\u001b[39m start\n",
            "File \u001b[1;32mc:\\Users\\ADMIN\\AppData\\Local\\Programs\\Python\\Python39\\lib\\site-packages\\requests\\adapters.py:519\u001b[0m, in \u001b[0;36mHTTPAdapter.send\u001b[1;34m(self, request, stream, timeout, verify, cert, proxies)\u001b[0m\n\u001b[0;32m    515\u001b[0m     \u001b[38;5;28;01mif\u001b[39;00m \u001b[38;5;28misinstance\u001b[39m(e\u001b[38;5;241m.\u001b[39mreason, _SSLError):\n\u001b[0;32m    516\u001b[0m         \u001b[38;5;66;03m# This branch is for urllib3 v1.22 and later.\u001b[39;00m\n\u001b[0;32m    517\u001b[0m         \u001b[38;5;28;01mraise\u001b[39;00m SSLError(e, request\u001b[38;5;241m=\u001b[39mrequest)\n\u001b[1;32m--> 519\u001b[0m     \u001b[38;5;28;01mraise\u001b[39;00m \u001b[38;5;167;01mConnectionError\u001b[39;00m(e, request\u001b[38;5;241m=\u001b[39mrequest)\n\u001b[0;32m    521\u001b[0m \u001b[38;5;28;01mexcept\u001b[39;00m ClosedPoolError \u001b[38;5;28;01mas\u001b[39;00m e:\n\u001b[0;32m    522\u001b[0m     \u001b[38;5;28;01mraise\u001b[39;00m \u001b[38;5;167;01mConnectionError\u001b[39;00m(e, request\u001b[38;5;241m=\u001b[39mrequest)\n",
            "\u001b[1;31mConnectionError\u001b[0m: HTTPConnectionPool(host='42.117.27.86', port=8080): Max retries exceeded with url: /api/movies?limit=50000&page=1 (Caused by NewConnectionError('<urllib3.connection.HTTPConnection object at 0x000002DE0466B580>: Failed to establish a new connection: [WinError 10060] A connection attempt failed because the connected party did not properly respond after a period of time, or established connection failed because connected host has failed to respond'))"
          ]
        }
      ],
      "source": [
        "n_movies = 50000\n",
        "movie_url = \"http://42.117.27.86:8080/api/movies?limit={}&page=1\".format(n_movies)\n",
        "request = requests.get(movie_url)"
      ]
    },
    {
      "cell_type": "code",
      "execution_count": 10,
      "metadata": {
        "colab": {
          "base_uri": "https://localhost:8080/"
        },
        "id": "JCu5vMTVC6Uv",
        "outputId": "b130f80a-0407-4a3f-e007-ec90087d1ea1"
      },
      "outputs": [],
      "source": [
        "raw_movie_data = pd.read_csv(\"./data/movies.csv\").iloc[:50000].to_dict(\"records\")"
      ]
    },
    {
      "cell_type": "code",
      "execution_count": 11,
      "metadata": {
        "id": "PJyGMVvkDK8Z"
      },
      "outputs": [],
      "source": [
        "def parser_infor_movie(json):\n",
        "  d = dict()\n",
        "  d['movie_id'] = json.get('id')\n",
        "  d['movie_title'] = json.get('title')\n",
        "\n",
        "  return d"
      ]
    },
    {
      "cell_type": "code",
      "execution_count": 12,
      "metadata": {
        "id": "NTemNs_TDcGL"
      },
      "outputs": [],
      "source": [
        "movie_data = []\n",
        "for infor in raw_movie_data:\n",
        "    movie_data.append(parser_infor_movie(infor))"
      ]
    },
    {
      "cell_type": "code",
      "execution_count": 13,
      "metadata": {
        "colab": {
          "base_uri": "https://localhost:8080/",
          "height": 423
        },
        "id": "cJFWNv0vDosb",
        "outputId": "5c2e5a33-8fd3-4306-c848-837308abf467"
      },
      "outputs": [
        {
          "data": {
            "text/html": [
              "<div>\n",
              "<style scoped>\n",
              "    .dataframe tbody tr th:only-of-type {\n",
              "        vertical-align: middle;\n",
              "    }\n",
              "\n",
              "    .dataframe tbody tr th {\n",
              "        vertical-align: top;\n",
              "    }\n",
              "\n",
              "    .dataframe thead th {\n",
              "        text-align: right;\n",
              "    }\n",
              "</style>\n",
              "<table border=\"1\" class=\"dataframe\">\n",
              "  <thead>\n",
              "    <tr style=\"text-align: right;\">\n",
              "      <th></th>\n",
              "      <th>movie_id</th>\n",
              "      <th>movie_title</th>\n",
              "    </tr>\n",
              "  </thead>\n",
              "  <tbody>\n",
              "    <tr>\n",
              "      <th>0</th>\n",
              "      <td>tt0000012</td>\n",
              "      <td>L&amp;apos;arrivée d&amp;apos;un train à La Ciotat</td>\n",
              "    </tr>\n",
              "    <tr>\n",
              "      <th>1</th>\n",
              "      <td>tt0000417</td>\n",
              "      <td>Le voyage dans la lune</td>\n",
              "    </tr>\n",
              "    <tr>\n",
              "      <th>2</th>\n",
              "      <td>tt0000439</td>\n",
              "      <td>The Great Train Robbery</td>\n",
              "    </tr>\n",
              "    <tr>\n",
              "      <th>3</th>\n",
              "      <td>tt0000546</td>\n",
              "      <td>Dream of a Rarebit Fiend</td>\n",
              "    </tr>\n",
              "    <tr>\n",
              "      <th>4</th>\n",
              "      <td>tt0000628</td>\n",
              "      <td>Adventures of Dollie</td>\n",
              "    </tr>\n",
              "    <tr>\n",
              "      <th>...</th>\n",
              "      <td>...</td>\n",
              "      <td>...</td>\n",
              "    </tr>\n",
              "    <tr>\n",
              "      <th>32149</th>\n",
              "      <td>tt9906260</td>\n",
              "      <td>Hero</td>\n",
              "    </tr>\n",
              "    <tr>\n",
              "      <th>32150</th>\n",
              "      <td>tt9907782</td>\n",
              "      <td>Eight for Silver</td>\n",
              "    </tr>\n",
              "    <tr>\n",
              "      <th>32151</th>\n",
              "      <td>tt9908860</td>\n",
              "      <td>Blown Away</td>\n",
              "    </tr>\n",
              "    <tr>\n",
              "      <th>32152</th>\n",
              "      <td>tt9914644</td>\n",
              "      <td>9/11: Escape from the Towers</td>\n",
              "    </tr>\n",
              "    <tr>\n",
              "      <th>32153</th>\n",
              "      <td>tt9916362</td>\n",
              "      <td>Akelarre</td>\n",
              "    </tr>\n",
              "  </tbody>\n",
              "</table>\n",
              "<p>32154 rows × 2 columns</p>\n",
              "</div>"
            ],
            "text/plain": [
              "        movie_id                                 movie_title\n",
              "0      tt0000012  L&apos;arrivée d&apos;un train à La Ciotat\n",
              "1      tt0000417                      Le voyage dans la lune\n",
              "2      tt0000439                     The Great Train Robbery\n",
              "3      tt0000546                    Dream of a Rarebit Fiend\n",
              "4      tt0000628                        Adventures of Dollie\n",
              "...          ...                                         ...\n",
              "32149  tt9906260                                        Hero\n",
              "32150  tt9907782                            Eight for Silver\n",
              "32151  tt9908860                                  Blown Away\n",
              "32152  tt9914644                9/11: Escape from the Towers\n",
              "32153  tt9916362                                    Akelarre\n",
              "\n",
              "[32154 rows x 2 columns]"
            ]
          },
          "execution_count": 13,
          "metadata": {},
          "output_type": "execute_result"
        }
      ],
      "source": [
        "df_2 = pd.DataFrame(movie_data)\n",
        "df_2"
      ]
    },
    {
      "cell_type": "markdown",
      "metadata": {
        "id": "KMLTd392wzSQ"
      },
      "source": [
        "## *Forming suitable dataset for Deep Learning model*"
      ]
    },
    {
      "cell_type": "code",
      "execution_count": 14,
      "metadata": {
        "colab": {
          "base_uri": "https://localhost:8080/",
          "height": 206
        },
        "id": "v4kdYDJCD6GG",
        "outputId": "acd90337-b5fc-4858-f00a-10be5b10fd4d"
      },
      "outputs": [
        {
          "data": {
            "text/html": [
              "<div>\n",
              "<style scoped>\n",
              "    .dataframe tbody tr th:only-of-type {\n",
              "        vertical-align: middle;\n",
              "    }\n",
              "\n",
              "    .dataframe tbody tr th {\n",
              "        vertical-align: top;\n",
              "    }\n",
              "\n",
              "    .dataframe thead th {\n",
              "        text-align: right;\n",
              "    }\n",
              "</style>\n",
              "<table border=\"1\" class=\"dataframe\">\n",
              "  <thead>\n",
              "    <tr style=\"text-align: right;\">\n",
              "      <th></th>\n",
              "      <th>user_id</th>\n",
              "      <th>movie_id</th>\n",
              "      <th>rating</th>\n",
              "      <th>agree</th>\n",
              "      <th>movie_title</th>\n",
              "    </tr>\n",
              "  </thead>\n",
              "  <tbody>\n",
              "    <tr>\n",
              "      <th>0</th>\n",
              "      <td>ur2467618</td>\n",
              "      <td>tt0004972</td>\n",
              "      <td>3.0</td>\n",
              "      <td>98 out of 159</td>\n",
              "      <td>The Birth of a Nation</td>\n",
              "    </tr>\n",
              "    <tr>\n",
              "      <th>1</th>\n",
              "      <td>ur1888886</td>\n",
              "      <td>tt0004972</td>\n",
              "      <td>10.0</td>\n",
              "      <td>192 out of 321</td>\n",
              "      <td>The Birth of a Nation</td>\n",
              "    </tr>\n",
              "    <tr>\n",
              "      <th>2</th>\n",
              "      <td>ur15148330</td>\n",
              "      <td>tt0004972</td>\n",
              "      <td>8.0</td>\n",
              "      <td>38 out of 60</td>\n",
              "      <td>The Birth of a Nation</td>\n",
              "    </tr>\n",
              "    <tr>\n",
              "      <th>3</th>\n",
              "      <td>ur2670273</td>\n",
              "      <td>tt0004972</td>\n",
              "      <td>1.0</td>\n",
              "      <td>216 out of 401</td>\n",
              "      <td>The Birth of a Nation</td>\n",
              "    </tr>\n",
              "    <tr>\n",
              "      <th>4</th>\n",
              "      <td>ur16588387</td>\n",
              "      <td>tt0004972</td>\n",
              "      <td>1.0</td>\n",
              "      <td>173 out of 300</td>\n",
              "      <td>The Birth of a Nation</td>\n",
              "    </tr>\n",
              "  </tbody>\n",
              "</table>\n",
              "</div>"
            ],
            "text/plain": [
              "      user_id   movie_id  rating           agree            movie_title\n",
              "0   ur2467618  tt0004972     3.0   98 out of 159  The Birth of a Nation\n",
              "1   ur1888886  tt0004972    10.0  192 out of 321  The Birth of a Nation\n",
              "2  ur15148330  tt0004972     8.0    38 out of 60  The Birth of a Nation\n",
              "3   ur2670273  tt0004972     1.0  216 out of 401  The Birth of a Nation\n",
              "4  ur16588387  tt0004972     1.0  173 out of 300  The Birth of a Nation"
            ]
          },
          "execution_count": 14,
          "metadata": {},
          "output_type": "execute_result"
        }
      ],
      "source": [
        "merged_dataset = pd.merge(df, df_2, how='inner', on='movie_id')\n",
        "merged_dataset.head()"
      ]
    },
    {
      "cell_type": "code",
      "execution_count": 15,
      "metadata": {
        "colab": {
          "base_uri": "https://localhost:8080/"
        },
        "id": "anu6p1y3kHa1",
        "outputId": "2d82dc76-3b43-4797-e431-ced975e9d012"
      },
      "outputs": [
        {
          "data": {
            "text/plain": [
              "movie_title\n",
              "12 Angry Men                       1984\n",
              "Citizen Kane                       1407\n",
              "Psycho                             1359\n",
              "Casablanca                         1313\n",
              "Il buono, il brutto, il cattivo    1230\n",
              "                                   ... \n",
              "Suvorov                               3\n",
              "The Man Who Never Was                 3\n",
              "Behind the Front                      2\n",
              "Putkinotko                            1\n",
              "In the Days of Daniel Boone           1\n",
              "Name: count, Length: 426, dtype: int64"
            ]
          },
          "execution_count": 15,
          "metadata": {},
          "output_type": "execute_result"
        }
      ],
      "source": [
        "merged_dataset['movie_title'].value_counts()"
      ]
    },
    {
      "cell_type": "code",
      "execution_count": 16,
      "metadata": {
        "colab": {
          "base_uri": "https://localhost:8080/",
          "height": 206
        },
        "id": "via48QpWEJ-x",
        "outputId": "24cdebd3-4dc9-4480-9f15-71050d6fa7d7"
      },
      "outputs": [
        {
          "data": {
            "text/html": [
              "<div>\n",
              "<style scoped>\n",
              "    .dataframe tbody tr th:only-of-type {\n",
              "        vertical-align: middle;\n",
              "    }\n",
              "\n",
              "    .dataframe tbody tr th {\n",
              "        vertical-align: top;\n",
              "    }\n",
              "\n",
              "    .dataframe thead th {\n",
              "        text-align: right;\n",
              "    }\n",
              "</style>\n",
              "<table border=\"1\" class=\"dataframe\">\n",
              "  <thead>\n",
              "    <tr style=\"text-align: right;\">\n",
              "      <th></th>\n",
              "      <th>user_id</th>\n",
              "      <th>movie_title</th>\n",
              "      <th>rating</th>\n",
              "    </tr>\n",
              "  </thead>\n",
              "  <tbody>\n",
              "    <tr>\n",
              "      <th>0</th>\n",
              "      <td>ur0000169</td>\n",
              "      <td>What Ever Happened to Baby Jane?</td>\n",
              "      <td>8.0</td>\n",
              "    </tr>\n",
              "    <tr>\n",
              "      <th>1</th>\n",
              "      <td>ur0000578</td>\n",
              "      <td>Portrait of Jennie</td>\n",
              "      <td>10.0</td>\n",
              "    </tr>\n",
              "    <tr>\n",
              "      <th>2</th>\n",
              "      <td>ur0001027</td>\n",
              "      <td>Doctor Zhivago</td>\n",
              "      <td>10.0</td>\n",
              "    </tr>\n",
              "    <tr>\n",
              "      <th>3</th>\n",
              "      <td>ur0001107</td>\n",
              "      <td>Auntie Mame</td>\n",
              "      <td>5.0</td>\n",
              "    </tr>\n",
              "    <tr>\n",
              "      <th>4</th>\n",
              "      <td>ur0001107</td>\n",
              "      <td>The Great Dictator</td>\n",
              "      <td>1.0</td>\n",
              "    </tr>\n",
              "  </tbody>\n",
              "</table>\n",
              "</div>"
            ],
            "text/plain": [
              "     user_id                       movie_title  rating\n",
              "0  ur0000169  What Ever Happened to Baby Jane?     8.0\n",
              "1  ur0000578                Portrait of Jennie    10.0\n",
              "2  ur0001027                    Doctor Zhivago    10.0\n",
              "3  ur0001107                       Auntie Mame     5.0\n",
              "4  ur0001107                The Great Dictator     1.0"
            ]
          },
          "execution_count": 16,
          "metadata": {},
          "output_type": "execute_result"
        }
      ],
      "source": [
        "refined_dataset = merged_dataset.groupby(by=['user_id','movie_title'], as_index=False).agg({\"rating\":\"mean\"})\n",
        "refined_dataset.head()"
      ]
    },
    {
      "cell_type": "markdown",
      "metadata": {
        "id": "SP1CbIWHxvPO"
      },
      "source": [
        "### *Encoding users and movie titles to make sure that the sequence has no missing values when dealing with Deep Neural Networks*"
      ]
    },
    {
      "cell_type": "code",
      "execution_count": 17,
      "metadata": {
        "id": "9PYiSPyJERMY"
      },
      "outputs": [],
      "source": [
        "user_enc = LabelEncoder()\n",
        "refined_dataset['user'] = user_enc.fit_transform(refined_dataset['user_id'].values)\n",
        "n_users = refined_dataset['user'].nunique()"
      ]
    },
    {
      "cell_type": "code",
      "execution_count": 18,
      "metadata": {
        "id": "fWKIPj7wEYNJ"
      },
      "outputs": [],
      "source": [
        "item_enc = LabelEncoder()\n",
        "refined_dataset['movie'] = item_enc.fit_transform(refined_dataset['movie_title'].values)\n",
        "n_movies = refined_dataset['movie'].nunique()"
      ]
    },
    {
      "cell_type": "code",
      "execution_count": 19,
      "metadata": {
        "colab": {
          "base_uri": "https://localhost:8080/"
        },
        "id": "vhbEy_x6EbkB",
        "outputId": "b4cede2e-20f9-4571-ead1-607da6a40870"
      },
      "outputs": [
        {
          "data": {
            "text/plain": [
              "(29758, 426, 1.0, 10.0)"
            ]
          },
          "execution_count": 19,
          "metadata": {},
          "output_type": "execute_result"
        }
      ],
      "source": [
        "refined_dataset['rating'] = refined_dataset['rating'].values.astype(np.float32)\n",
        "min_rating = min(refined_dataset['rating'])\n",
        "max_rating = max(refined_dataset['rating'])\n",
        "n_users, n_movies, min_rating, max_rating"
      ]
    },
    {
      "cell_type": "code",
      "execution_count": 20,
      "metadata": {
        "colab": {
          "base_uri": "https://localhost:8080/",
          "height": 206
        },
        "id": "pfVyosxsEfZk",
        "outputId": "7535f0f5-f3b1-4272-a5c7-d26e28fd1224"
      },
      "outputs": [
        {
          "data": {
            "text/html": [
              "<div>\n",
              "<style scoped>\n",
              "    .dataframe tbody tr th:only-of-type {\n",
              "        vertical-align: middle;\n",
              "    }\n",
              "\n",
              "    .dataframe tbody tr th {\n",
              "        vertical-align: top;\n",
              "    }\n",
              "\n",
              "    .dataframe thead th {\n",
              "        text-align: right;\n",
              "    }\n",
              "</style>\n",
              "<table border=\"1\" class=\"dataframe\">\n",
              "  <thead>\n",
              "    <tr style=\"text-align: right;\">\n",
              "      <th></th>\n",
              "      <th>user_id</th>\n",
              "      <th>movie_title</th>\n",
              "      <th>rating</th>\n",
              "      <th>user</th>\n",
              "      <th>movie</th>\n",
              "    </tr>\n",
              "  </thead>\n",
              "  <tbody>\n",
              "    <tr>\n",
              "      <th>0</th>\n",
              "      <td>ur0000169</td>\n",
              "      <td>What Ever Happened to Baby Jane?</td>\n",
              "      <td>8.0</td>\n",
              "      <td>0</td>\n",
              "      <td>409</td>\n",
              "    </tr>\n",
              "    <tr>\n",
              "      <th>1</th>\n",
              "      <td>ur0000578</td>\n",
              "      <td>Portrait of Jennie</td>\n",
              "      <td>10.0</td>\n",
              "      <td>1</td>\n",
              "      <td>228</td>\n",
              "    </tr>\n",
              "    <tr>\n",
              "      <th>2</th>\n",
              "      <td>ur0001027</td>\n",
              "      <td>Doctor Zhivago</td>\n",
              "      <td>10.0</td>\n",
              "      <td>2</td>\n",
              "      <td>69</td>\n",
              "    </tr>\n",
              "    <tr>\n",
              "      <th>3</th>\n",
              "      <td>ur0001107</td>\n",
              "      <td>Auntie Mame</td>\n",
              "      <td>5.0</td>\n",
              "      <td>3</td>\n",
              "      <td>23</td>\n",
              "    </tr>\n",
              "    <tr>\n",
              "      <th>4</th>\n",
              "      <td>ur0001107</td>\n",
              "      <td>The Great Dictator</td>\n",
              "      <td>1.0</td>\n",
              "      <td>3</td>\n",
              "      <td>320</td>\n",
              "    </tr>\n",
              "  </tbody>\n",
              "</table>\n",
              "</div>"
            ],
            "text/plain": [
              "     user_id                       movie_title  rating  user  movie\n",
              "0  ur0000169  What Ever Happened to Baby Jane?     8.0     0    409\n",
              "1  ur0000578                Portrait of Jennie    10.0     1    228\n",
              "2  ur0001027                    Doctor Zhivago    10.0     2     69\n",
              "3  ur0001107                       Auntie Mame     5.0     3     23\n",
              "4  ur0001107                The Great Dictator     1.0     3    320"
            ]
          },
          "execution_count": 20,
          "metadata": {},
          "output_type": "execute_result"
        }
      ],
      "source": [
        "refined_dataset.head()"
      ]
    },
    {
      "cell_type": "markdown",
      "metadata": {
        "id": "6twJTZp0x51F"
      },
      "source": [
        "## *Training & Testing*"
      ]
    },
    {
      "cell_type": "markdown",
      "metadata": {
        "id": "zMk_jXF8yJys"
      },
      "source": [
        "### *Splitting the data into training and testing*"
      ]
    },
    {
      "cell_type": "code",
      "execution_count": 21,
      "metadata": {
        "colab": {
          "base_uri": "https://localhost:8080/"
        },
        "id": "TzL-4mRSEkba",
        "outputId": "fc0b93bb-830a-46ab-ce8f-393253bf1896"
      },
      "outputs": [
        {
          "data": {
            "text/plain": [
              "((70823, 2), (7870, 2), (70823,), (7870,))"
            ]
          },
          "execution_count": 21,
          "metadata": {},
          "output_type": "execute_result"
        }
      ],
      "source": [
        "X = refined_dataset[['user', 'movie']].values\n",
        "y = refined_dataset['rating'].values\n",
        "X_train, X_test, y_train, y_test = train_test_split(X, y, test_size=0.1, random_state=50)\n",
        "X_train.shape, X_test.shape, y_train.shape, y_test.shape"
      ]
    },
    {
      "cell_type": "code",
      "execution_count": 22,
      "metadata": {
        "id": "XR-2KlKjEl8o"
      },
      "outputs": [],
      "source": [
        "n_factors = 150"
      ]
    },
    {
      "cell_type": "code",
      "execution_count": 23,
      "metadata": {
        "id": "3FuB90dTEp04"
      },
      "outputs": [],
      "source": [
        "X_train_array = [X_train[:, 0], X_train[:, 1]]\n",
        "X_test_array = [X_test[:, 0], X_test[:, 1]]"
      ]
    },
    {
      "cell_type": "code",
      "execution_count": 24,
      "metadata": {
        "id": "aY2gnzN3ExXq"
      },
      "outputs": [],
      "source": [
        "y_train = (y_train - min_rating)/(max_rating - min_rating)\n",
        "y_test = (y_test - min_rating)/(max_rating - min_rating)"
      ]
    },
    {
      "cell_type": "markdown",
      "metadata": {
        "id": "nx3gJfuKyXQq"
      },
      "source": [
        "### *Building a Softmax Deep Neural Network*"
      ]
    },
    {
      "cell_type": "code",
      "execution_count": 25,
      "metadata": {
        "id": "yTi6xDA2EzwY"
      },
      "outputs": [
        {
          "name": "stdout",
          "output_type": "stream",
          "text": [
            "WARNING:tensorflow:From c:\\Users\\ADMIN\\AppData\\Local\\Programs\\Python\\Python39\\lib\\site-packages\\keras\\src\\backend.py:1398: The name tf.executing_eagerly_outside_functions is deprecated. Please use tf.compat.v1.executing_eagerly_outside_functions instead.\n",
            "\n",
            "WARNING:tensorflow:From c:\\Users\\ADMIN\\AppData\\Local\\Programs\\Python\\Python39\\lib\\site-packages\\keras\\src\\optimizers\\__init__.py:309: The name tf.train.Optimizer is deprecated. Please use tf.compat.v1.train.Optimizer instead.\n",
            "\n"
          ]
        }
      ],
      "source": [
        "## Initializing a input layer for users\n",
        "user = tf.keras.layers.Input(shape = (1,))\n",
        "\n",
        "## Embedding layer for n_factors of users\n",
        "u = keras.layers.Embedding(n_users, n_factors, embeddings_initializer = 'he_normal', embeddings_regularizer = tf.keras.regularizers.l2(1e-6))(user)\n",
        "u = tf.keras.layers.Reshape((n_factors,))(u)\n",
        "\n",
        "## Initializing a input layer for movies\n",
        "movie = tf.keras.layers.Input(shape = (1,))\n",
        "\n",
        "## Embedding layer for n_factors of movies\n",
        "m = keras.layers.Embedding(n_movies, n_factors, embeddings_initializer = 'he_normal', embeddings_regularizer=tf.keras.regularizers.l2(1e-6))(movie)\n",
        "m = tf.keras.layers.Reshape((n_factors,))(m)\n",
        "\n",
        "## stacking up both user and movie embeddings\n",
        "x = tf.keras.layers.Concatenate()([u,m])\n",
        "x = tf.keras.layers.Dropout(0.05)(x)\n",
        "\n",
        "## Adding a Dense layer to the architecture\n",
        "x = tf.keras.layers.Dense(32, kernel_initializer='he_normal')(x)\n",
        "x = tf.keras.layers.Activation(activation='relu')(x)\n",
        "x = tf.keras.layers.Dropout(0.05)(x)\n",
        "\n",
        "x = tf.keras.layers.Dense(16, kernel_initializer='he_normal')(x)\n",
        "x = tf.keras.layers.Activation(activation='relu')(x)\n",
        "x = tf.keras.layers.Dropout(0.05)(x)\n",
        "\n",
        "## Adding an Output layer with Sigmoid activation funtion which gives output between 0 and 1\n",
        "x = tf.keras.layers.Dense(9)(x)\n",
        "x = tf.keras.layers.Activation(activation='softmax')(x)\n",
        "\n",
        "## Adding a Lambda layer to convert the output to rating by scaling it with the help of available rating information\n",
        "# x = tf.keras.layers.Lambda(lambda x: x*(max_rating - min_rating) + min_rating)(x)\n",
        "\n",
        "## Defining the model\n",
        "model = tf.keras.models.Model(inputs=[user,movie], outputs=x)\n",
        "# optimizer = tf.keras.optimizers.Adam(lr=0.001)\n",
        "# optimizer = tf.keras.optimizers.RMSprop(learning_rate=0.005,\n",
        "    # rho=0.9, momentum=0.01, epsilon=1e-07)\n",
        "\n",
        "## Compiling the model\n",
        "# model.compile(loss='binary_crossentropy', optimizer = optimizer)\n",
        "# model.compile(loss='mean_squared_error', optimizer = optimizer,metrics=['accuracy'])\n",
        "model.compile(optimizer='sgd', loss=tf.keras.losses.SparseCategoricalCrossentropy(), metrics=['accuracy'])\n"
      ]
    },
    {
      "cell_type": "code",
      "execution_count": 26,
      "metadata": {
        "colab": {
          "base_uri": "https://localhost:8080/"
        },
        "id": "qvqouxVIE3_-",
        "outputId": "6dd52cbf-74dd-410b-87ef-06b1f1624672"
      },
      "outputs": [
        {
          "name": "stdout",
          "output_type": "stream",
          "text": [
            "Epoch 1/70\n",
            "WARNING:tensorflow:From c:\\Users\\ADMIN\\AppData\\Local\\Programs\\Python\\Python39\\lib\\site-packages\\keras\\src\\utils\\tf_utils.py:492: The name tf.ragged.RaggedTensorValue is deprecated. Please use tf.compat.v1.ragged.RaggedTensorValue instead.\n",
            "\n",
            "WARNING:tensorflow:From c:\\Users\\ADMIN\\AppData\\Local\\Programs\\Python\\Python39\\lib\\site-packages\\keras\\src\\engine\\base_layer_utils.py:384: The name tf.executing_eagerly_outside_functions is deprecated. Please use tf.compat.v1.executing_eagerly_outside_functions instead.\n",
            "\n",
            "554/554 [==============================] - 3s 5ms/step - loss: 1.1809 - accuracy: 0.0261 - val_loss: 0.6959 - val_accuracy: 0.0262 - lr: 0.0100\n",
            "Epoch 2/70\n",
            "554/554 [==============================] - 3s 5ms/step - loss: 0.6781 - accuracy: 0.0261 - val_loss: 0.6471 - val_accuracy: 0.0262 - lr: 0.0100\n",
            "Epoch 3/70\n",
            "554/554 [==============================] - 3s 5ms/step - loss: 0.6566 - accuracy: 0.0261 - val_loss: 0.6389 - val_accuracy: 0.0262 - lr: 0.0100\n",
            "Epoch 4/70\n",
            "554/554 [==============================] - 3s 5ms/step - loss: 0.6516 - accuracy: 0.0261 - val_loss: 0.6362 - val_accuracy: 0.0262 - lr: 0.0100\n",
            "Epoch 5/70\n",
            "554/554 [==============================] - 3s 5ms/step - loss: 0.6488 - accuracy: 0.0261 - val_loss: 0.6349 - val_accuracy: 0.0262 - lr: 0.0100\n",
            "Epoch 6/70\n",
            "554/554 [==============================] - 3s 5ms/step - loss: 0.6472 - accuracy: 0.0261 - val_loss: 0.6345 - val_accuracy: 0.0262 - lr: 0.0100\n",
            "Epoch 7/70\n",
            "554/554 [==============================] - 3s 5ms/step - loss: 0.6456 - accuracy: 0.0261 - val_loss: 0.6325 - val_accuracy: 0.0262 - lr: 0.0100\n",
            "Epoch 8/70\n",
            "554/554 [==============================] - 3s 5ms/step - loss: 0.6441 - accuracy: 0.0261 - val_loss: 0.6317 - val_accuracy: 0.0262 - lr: 0.0100\n",
            "Epoch 9/70\n",
            "554/554 [==============================] - 3s 5ms/step - loss: 0.6430 - accuracy: 0.0261 - val_loss: 0.6304 - val_accuracy: 0.0262 - lr: 0.0100\n",
            "Epoch 10/70\n",
            "554/554 [==============================] - 3s 5ms/step - loss: 0.6411 - accuracy: 0.0261 - val_loss: 0.6282 - val_accuracy: 0.0262 - lr: 0.0100\n",
            "Epoch 11/70\n",
            "554/554 [==============================] - 3s 5ms/step - loss: 0.6392 - accuracy: 0.0261 - val_loss: 0.6261 - val_accuracy: 0.0262 - lr: 0.0100\n",
            "Epoch 12/70\n",
            "554/554 [==============================] - 3s 5ms/step - loss: 0.6369 - accuracy: 0.0262 - val_loss: 0.6244 - val_accuracy: 0.0262 - lr: 0.0100\n",
            "Epoch 13/70\n",
            "554/554 [==============================] - 3s 5ms/step - loss: 0.6346 - accuracy: 0.0284 - val_loss: 0.6211 - val_accuracy: 0.0262 - lr: 0.0100\n",
            "Epoch 14/70\n",
            "554/554 [==============================] - 3s 5ms/step - loss: 0.6311 - accuracy: 0.0348 - val_loss: 0.6168 - val_accuracy: 0.0297 - lr: 0.0100\n",
            "Epoch 15/70\n",
            "554/554 [==============================] - 3s 5ms/step - loss: 0.6281 - accuracy: 0.0452 - val_loss: 0.6132 - val_accuracy: 0.0427 - lr: 0.0100\n",
            "Epoch 16/70\n",
            "554/554 [==============================] - 3s 5ms/step - loss: 0.6247 - accuracy: 0.0558 - val_loss: 0.6093 - val_accuracy: 0.0497 - lr: 0.0100\n",
            "Epoch 17/70\n",
            "554/554 [==============================] - 3s 5ms/step - loss: 0.6219 - accuracy: 0.0657 - val_loss: 0.6060 - val_accuracy: 0.0512 - lr: 0.0100\n",
            "Epoch 18/70\n",
            "554/554 [==============================] - 3s 5ms/step - loss: 0.6181 - accuracy: 0.0745 - val_loss: 0.6026 - val_accuracy: 0.0802 - lr: 0.0100\n",
            "Epoch 19/70\n",
            "554/554 [==============================] - 3s 5ms/step - loss: 0.6162 - accuracy: 0.0808 - val_loss: 0.5985 - val_accuracy: 0.0795 - lr: 0.0100\n",
            "Epoch 20/70\n",
            "554/554 [==============================] - 3s 5ms/step - loss: 0.6121 - accuracy: 0.0875 - val_loss: 0.5954 - val_accuracy: 0.0889 - lr: 0.0100\n",
            "Epoch 21/70\n",
            "554/554 [==============================] - 3s 5ms/step - loss: 0.6096 - accuracy: 0.0930 - val_loss: 0.5924 - val_accuracy: 0.0891 - lr: 0.0100\n",
            "Epoch 22/70\n",
            "554/554 [==============================] - 3s 5ms/step - loss: 0.6071 - accuracy: 0.0965 - val_loss: 0.5901 - val_accuracy: 0.1017 - lr: 0.0100\n",
            "Epoch 23/70\n",
            "554/554 [==============================] - 3s 5ms/step - loss: 0.6039 - accuracy: 0.1009 - val_loss: 0.5865 - val_accuracy: 0.1036 - lr: 0.0100\n",
            "Epoch 24/70\n",
            "554/554 [==============================] - 3s 5ms/step - loss: 0.6009 - accuracy: 0.1061 - val_loss: 0.5835 - val_accuracy: 0.1017 - lr: 0.0100\n",
            "Epoch 25/70\n",
            "554/554 [==============================] - 3s 5ms/step - loss: 0.5994 - accuracy: 0.1081 - val_loss: 0.5819 - val_accuracy: 0.0905 - lr: 0.0100\n",
            "Epoch 26/70\n",
            "554/554 [==============================] - 3s 5ms/step - loss: 0.5963 - accuracy: 0.1124 - val_loss: 0.5780 - val_accuracy: 0.1071 - lr: 0.0100\n",
            "Epoch 27/70\n",
            "554/554 [==============================] - 3s 5ms/step - loss: 0.5922 - accuracy: 0.1166 - val_loss: 0.5748 - val_accuracy: 0.1121 - lr: 0.0100\n",
            "Epoch 28/70\n",
            "554/554 [==============================] - 3s 5ms/step - loss: 0.5893 - accuracy: 0.1213 - val_loss: 0.5754 - val_accuracy: 0.1321 - lr: 0.0100\n",
            "Epoch 29/70\n",
            "554/554 [==============================] - 3s 5ms/step - loss: 0.5858 - accuracy: 0.1256 - val_loss: 0.5692 - val_accuracy: 0.1060 - lr: 0.0100\n",
            "Epoch 30/70\n",
            "554/554 [==============================] - 3s 5ms/step - loss: 0.5818 - accuracy: 0.1298 - val_loss: 0.5655 - val_accuracy: 0.1109 - lr: 0.0100\n",
            "Epoch 31/70\n",
            "554/554 [==============================] - 3s 5ms/step - loss: 0.5784 - accuracy: 0.1352 - val_loss: 0.5616 - val_accuracy: 0.1145 - lr: 0.0100\n",
            "Epoch 32/70\n",
            "554/554 [==============================] - 3s 6ms/step - loss: 0.5730 - accuracy: 0.1408 - val_loss: 0.5573 - val_accuracy: 0.1339 - lr: 0.0100\n",
            "Epoch 33/70\n",
            "554/554 [==============================] - 3s 6ms/step - loss: 0.5682 - accuracy: 0.1468 - val_loss: 0.5579 - val_accuracy: 0.1662 - lr: 0.0100\n",
            "Epoch 34/70\n",
            "554/554 [==============================] - 3s 6ms/step - loss: 0.5625 - accuracy: 0.1523 - val_loss: 0.5500 - val_accuracy: 0.1541 - lr: 0.0100\n",
            "Epoch 35/70\n",
            "554/554 [==============================] - 3s 5ms/step - loss: 0.5563 - accuracy: 0.1601 - val_loss: 0.5460 - val_accuracy: 0.1632 - lr: 0.0100\n",
            "Epoch 36/70\n",
            "554/554 [==============================] - 3s 5ms/step - loss: 0.5502 - accuracy: 0.1649 - val_loss: 0.5407 - val_accuracy: 0.1649 - lr: 0.0100\n",
            "Epoch 37/70\n",
            "554/554 [==============================] - 3s 5ms/step - loss: 0.5440 - accuracy: 0.1728 - val_loss: 0.5353 - val_accuracy: 0.1637 - lr: 0.0100\n",
            "Epoch 38/70\n",
            "554/554 [==============================] - 3s 5ms/step - loss: 0.5361 - accuracy: 0.1789 - val_loss: 0.5306 - val_accuracy: 0.1682 - lr: 0.0100\n",
            "Epoch 39/70\n",
            "554/554 [==============================] - 3s 5ms/step - loss: 0.5282 - accuracy: 0.1864 - val_loss: 0.5273 - val_accuracy: 0.1844 - lr: 0.0100\n",
            "Epoch 40/70\n",
            "554/554 [==============================] - 3s 5ms/step - loss: 0.5213 - accuracy: 0.1928 - val_loss: 0.5217 - val_accuracy: 0.1656 - lr: 0.0100\n",
            "Epoch 41/70\n",
            "554/554 [==============================] - 3s 5ms/step - loss: 0.5128 - accuracy: 0.1966 - val_loss: 0.5184 - val_accuracy: 0.1807 - lr: 0.0100\n",
            "Epoch 42/70\n",
            "554/554 [==============================] - 3s 5ms/step - loss: 0.5042 - accuracy: 0.2047 - val_loss: 0.5147 - val_accuracy: 0.1850 - lr: 0.0100\n",
            "Epoch 43/70\n",
            "554/554 [==============================] - 3s 5ms/step - loss: 0.4948 - accuracy: 0.2107 - val_loss: 0.5127 - val_accuracy: 0.2013 - lr: 0.0100\n",
            "Epoch 44/70\n",
            "554/554 [==============================] - 3s 5ms/step - loss: 0.4840 - accuracy: 0.2191 - val_loss: 0.5115 - val_accuracy: 0.2154 - lr: 0.0100\n",
            "Epoch 45/70\n",
            "554/554 [==============================] - 3s 5ms/step - loss: 0.4736 - accuracy: 0.2244 - val_loss: 0.5051 - val_accuracy: 0.1794 - lr: 0.0100\n",
            "Epoch 46/70\n",
            "554/554 [==============================] - 3s 5ms/step - loss: 0.4626 - accuracy: 0.2304 - val_loss: 0.5042 - val_accuracy: 0.2067 - lr: 0.0100\n",
            "Epoch 47/70\n",
            "554/554 [==============================] - 3s 5ms/step - loss: 0.4499 - accuracy: 0.2377 - val_loss: 0.5020 - val_accuracy: 0.1826 - lr: 0.0100\n",
            "Epoch 48/70\n",
            "554/554 [==============================] - 3s 5ms/step - loss: 0.4373 - accuracy: 0.2446 - val_loss: 0.5048 - val_accuracy: 0.2260 - lr: 0.0100\n",
            "Epoch 49/70\n",
            "554/554 [==============================] - 3s 5ms/step - loss: 0.4238 - accuracy: 0.2515 - val_loss: 0.5055 - val_accuracy: 0.2301 - lr: 0.0100\n",
            "Epoch 50/70\n",
            "554/554 [==============================] - 3s 5ms/step - loss: 0.4100 - accuracy: 0.2580 - val_loss: 0.5013 - val_accuracy: 0.2113 - lr: 0.0100\n",
            "Epoch 51/70\n",
            "554/554 [==============================] - 3s 5ms/step - loss: 0.3985 - accuracy: 0.2619 - val_loss: 0.5041 - val_accuracy: 0.1797 - lr: 0.0100\n",
            "Epoch 52/70\n",
            "554/554 [==============================] - 3s 5ms/step - loss: 0.3831 - accuracy: 0.2677 - val_loss: 0.5035 - val_accuracy: 0.1959 - lr: 0.0100\n",
            "Epoch 53/70\n",
            "546/554 [============================>.] - ETA: 0s - loss: 0.3709 - accuracy: 0.2732\n",
            "Epoch 53: ReduceLROnPlateau reducing learning rate to 0.007499999832361937.\n",
            "554/554 [==============================] - 3s 5ms/step - loss: 0.3711 - accuracy: 0.2731 - val_loss: 0.5063 - val_accuracy: 0.1961 - lr: 0.0100\n",
            "Epoch 54/70\n",
            "554/554 [==============================] - 3s 5ms/step - loss: 0.3571 - accuracy: 0.2762 - val_loss: 0.5084 - val_accuracy: 0.1967 - lr: 0.0075\n",
            "Epoch 55/70\n",
            "554/554 [==============================] - 3s 5ms/step - loss: 0.3472 - accuracy: 0.2798 - val_loss: 0.5105 - val_accuracy: 0.2008 - lr: 0.0075\n",
            "Epoch 56/70\n",
            "543/554 [============================>.] - ETA: 0s - loss: 0.3387 - accuracy: 0.2824\n",
            "Epoch 56: ReduceLROnPlateau reducing learning rate to 0.005624999874271452.\n",
            "554/554 [==============================] - 3s 5ms/step - loss: 0.3389 - accuracy: 0.2817 - val_loss: 0.5148 - val_accuracy: 0.2201 - lr: 0.0075\n",
            "Epoch 57/70\n",
            "554/554 [==============================] - 3s 5ms/step - loss: 0.3312 - accuracy: 0.2832 - val_loss: 0.5163 - val_accuracy: 0.1945 - lr: 0.0056\n",
            "Epoch 58/70\n",
            "554/554 [==============================] - 3s 5ms/step - loss: 0.3239 - accuracy: 0.2849 - val_loss: 0.5190 - val_accuracy: 0.2161 - lr: 0.0056\n",
            "Epoch 59/70\n",
            "550/554 [============================>.] - ETA: 0s - loss: 0.3204 - accuracy: 0.2854\n",
            "Epoch 59: ReduceLROnPlateau reducing learning rate to 0.004218749818392098.\n",
            "554/554 [==============================] - 3s 5ms/step - loss: 0.3204 - accuracy: 0.2855 - val_loss: 0.5219 - val_accuracy: 0.1956 - lr: 0.0056\n",
            "Epoch 60/70\n",
            "554/554 [==============================] - 3s 5ms/step - loss: 0.3143 - accuracy: 0.2865 - val_loss: 0.5229 - val_accuracy: 0.1975 - lr: 0.0042\n",
            "Epoch 61/70\n",
            "554/554 [==============================] - 3s 5ms/step - loss: 0.3099 - accuracy: 0.2871 - val_loss: 0.5248 - val_accuracy: 0.2111 - lr: 0.0042\n",
            "Epoch 62/70\n",
            "550/554 [============================>.] - ETA: 0s - loss: 0.3083 - accuracy: 0.2870\n",
            "Epoch 62: ReduceLROnPlateau reducing learning rate to 0.003164062276482582.\n",
            "554/554 [==============================] - 3s 5ms/step - loss: 0.3083 - accuracy: 0.2872 - val_loss: 0.5285 - val_accuracy: 0.1931 - lr: 0.0042\n",
            "Epoch 63/70\n",
            "554/554 [==============================] - 3s 5ms/step - loss: 0.3033 - accuracy: 0.2872 - val_loss: 0.5292 - val_accuracy: 0.1995 - lr: 0.0032\n",
            "Epoch 64/70\n",
            "554/554 [==============================] - 3s 5ms/step - loss: 0.3005 - accuracy: 0.2881 - val_loss: 0.5318 - val_accuracy: 0.1900 - lr: 0.0032\n",
            "Epoch 65/70\n",
            "543/554 [============================>.] - ETA: 0s - loss: 0.2994 - accuracy: 0.2894\n",
            "Epoch 65: ReduceLROnPlateau reducing learning rate to 0.0023730467073619366.\n",
            "554/554 [==============================] - 3s 5ms/step - loss: 0.2992 - accuracy: 0.2892 - val_loss: 0.5311 - val_accuracy: 0.2071 - lr: 0.0032\n",
            "Epoch 66/70\n",
            "554/554 [==============================] - 3s 5ms/step - loss: 0.2960 - accuracy: 0.2895 - val_loss: 0.5330 - val_accuracy: 0.2141 - lr: 0.0024\n",
            "Epoch 67/70\n",
            "554/554 [==============================] - 3s 5ms/step - loss: 0.2949 - accuracy: 0.2900 - val_loss: 0.5334 - val_accuracy: 0.2028 - lr: 0.0024\n",
            "Epoch 68/70\n",
            "549/554 [============================>.] - ETA: 0s - loss: 0.2941 - accuracy: 0.2895\n",
            "Epoch 68: ReduceLROnPlateau reducing learning rate to 0.0017797850305214524.\n",
            "554/554 [==============================] - 3s 5ms/step - loss: 0.2942 - accuracy: 0.2894 - val_loss: 0.5345 - val_accuracy: 0.2094 - lr: 0.0024\n",
            "Epoch 69/70\n",
            "554/554 [==============================] - 3s 5ms/step - loss: 0.2918 - accuracy: 0.2898 - val_loss: 0.5351 - val_accuracy: 0.2033 - lr: 0.0018\n",
            "Epoch 70/70\n",
            "554/554 [==============================] - 3s 5ms/step - loss: 0.2909 - accuracy: 0.2895 - val_loss: 0.5361 - val_accuracy: 0.2080 - lr: 0.0018\n"
          ]
        }
      ],
      "source": [
        "reduce_lr = tf.keras.callbacks.ReduceLROnPlateau(monitor='val_loss', factor=0.75, patience=3, min_lr=0.000001, verbose=1)\n",
        "\n",
        "history = model.fit(x = X_train_array, y = y_train, batch_size=128, epochs=70, verbose=1, validation_data=(X_test_array, y_test)\n",
        ",shuffle=True,callbacks=[reduce_lr])"
      ]
    },
    {
      "cell_type": "code",
      "execution_count": 27,
      "metadata": {
        "colab": {
          "base_uri": "https://localhost:8080/",
          "height": 472
        },
        "id": "6SlfWxp2FvNU",
        "outputId": "49823d2a-d569-42f7-b606-6eeeab96b844"
      },
      "outputs": [
        {
          "data": {
            "image/png": "[encoded data removed]",
            "text/plain": [
              "<Figure size 640x480 with 1 Axes>"
            ]
          },
          "metadata": {},
          "output_type": "display_data"
        }
      ],
      "source": [
        "plt.plot(history.history[\"loss\"][5:])\n",
        "plt.plot(history.history[\"val_loss\"][5:])\n",
        "plt.title(\"model loss\")\n",
        "plt.ylabel(\"loss\")\n",
        "plt.xlabel(\"epoch\")\n",
        "plt.legend([\"train\", \"test\"], loc=\"upper left\")\n",
        "plt.show()"
      ]
    },
    {
      "cell_type": "code",
      "execution_count": 28,
      "metadata": {
        "id": "mJ3d1C9JF0Do"
      },
      "outputs": [],
      "source": [
        "def recommender_system(user_id, model, n_movies):\n",
        "\n",
        "  print(\"\")\n",
        "  print(\"Movie seen by the User:\")\n",
        "  pprint(list(refined_dataset[refined_dataset['user_id'] == user_id]['movie_title']))\n",
        "  print(\"\")\n",
        "\n",
        "  encoded_user_id = user_enc.transform([user_id])\n",
        "\n",
        "  seen_movies = list(refined_dataset[refined_dataset['user_id'] == user_id]['movie'])\n",
        "  print(len(seen_movies))\n",
        "  unseen_movies = [i for i in range(min(refined_dataset['movie']), max(refined_dataset['movie'])+1) if i not in seen_movies]\n",
        "  print(len(unseen_movies))\n",
        "  model_input = [np.asarray(list(encoded_user_id)*len(unseen_movies)), np.asarray(unseen_movies)]\n",
        "  predicted_ratings = model.predict(model_input)\n",
        "  predicted_ratings = np.max(predicted_ratings, axis=1)\n",
        "  sorted_index = np.argsort(predicted_ratings)[::-1]\n",
        "  recommended_movies = item_enc.inverse_transform(sorted_index)\n",
        "  print(\"---------------------------------------------------------------------------------\")\n",
        "  print(\"Top \"+str(n_movies)+\" Movie recommendations for the User \"+str(user_id)+ \" are:\")\n",
        "  pprint(list(recommended_movies[:n_movies]))\n",
        "\n",
        "  # Tạo DataFrame từ danh sách tên phim và dự đoán ratings\n",
        "  recommendations_df = pd.DataFrame({\n",
        "      'Tên Phim': recommended_movies[:n_movies],\n",
        "      'Rating Dự Đoán': predicted_ratings[sorted_index][:n_movies]*(max_rating - min_rating)  + min_rating# Lấy các dự đoán tương ứng\n",
        "  })\n",
        "\n",
        "  return recommendations_df"
      ]
    },
    {
      "cell_type": "code",
      "execution_count": 31,
      "metadata": {
        "colab": {
          "base_uri": "https://localhost:8080/"
        },
        "id": "XRcxTsAniiYy",
        "outputId": "83f1928f-e941-45ec-d26f-09724687874e"
      },
      "outputs": [
        {
          "data": {
            "text/plain": [
              "movie_id\n",
              "tt0004972    1\n",
              "tt0052225    1\n",
              "tt0053114    1\n",
              "tt0053072    1\n",
              "tt0052997    1\n",
              "            ..\n",
              "tt0039661    1\n",
              "tt0039628    1\n",
              "tt0039501    1\n",
              "tt0039286    1\n",
              "tt0062512    1\n",
              "Name: count, Length: 497, dtype: int64"
            ]
          },
          "execution_count": 31,
          "metadata": {},
          "output_type": "execute_result"
        }
      ],
      "source": [
        "# Test\n",
        "df[df['user_id'] == \"ur2467618\"]['movie_id'].value_counts()"
      ]
    },
    {
      "cell_type": "code",
      "execution_count": 29,
      "metadata": {
        "id": "4Ewv4UYvGIKD"
      },
      "outputs": [
        {
          "name": "stdout",
          "output_type": "stream",
          "text": [
            "Enter user id\n"
          ]
        }
      ],
      "source": [
        "print(\"Enter user id\")\n",
        "user_id= input()\n",
        "\n",
        "print(\"Enter number of movies to be recommended:\")\n",
        "n_movies = int(input())\n",
        "rating_df = recommender_system(user_id,model,n_movies)\n",
        "rating_df"
      ]
    },
    {
      "cell_type": "markdown",
      "metadata": {
        "id": "-_4oSQUNl8Sy"
      },
      "source": [
        "## *Save model and load model to use*"
      ]
    },
    {
      "cell_type": "code",
      "execution_count": 30,
      "metadata": {
        "id": "iB5I_M5FmB8k"
      },
      "outputs": [
        {
          "name": "stdout",
          "output_type": "stream",
          "text": [
            "INFO:tensorflow:Assets written to: Recommend_System\\assets\n"
          ]
        },
        {
          "name": "stderr",
          "output_type": "stream",
          "text": [
            "INFO:tensorflow:Assets written to: Recommend_System\\assets\n"
          ]
        }
      ],
      "source": [
        "model.save('Recommend_System')"
      ]
    },
    {
      "cell_type": "code",
      "execution_count": 34,
      "metadata": {
        "id": "szlOS2aVmeIf"
      },
      "outputs": [
        {
          "name": "stdout",
          "output_type": "stream",
          "text": [
            "WARNING:tensorflow:From c:\\Users\\ADMIN\\AppData\\Local\\Programs\\Python\\Python39\\lib\\site-packages\\keras\\src\\saving\\legacy\\saved_model\\load.py:107: The name tf.gfile.Exists is deprecated. Please use tf.io.gfile.exists instead.\n",
            "\n"
          ]
        },
        {
          "name": "stderr",
          "output_type": "stream",
          "text": [
            "WARNING:tensorflow:From c:\\Users\\ADMIN\\AppData\\Local\\Programs\\Python\\Python39\\lib\\site-packages\\keras\\src\\saving\\legacy\\saved_model\\load.py:107: The name tf.gfile.Exists is deprecated. Please use tf.io.gfile.exists instead.\n",
            "\n"
          ]
        }
      ],
      "source": [
        "loaded_model = tf.keras.models.load_model('./data/Recommend_System')"
      ]
    },
    {
      "cell_type": "code",
      "execution_count": 32,
      "metadata": {
        "colab": {
          "base_uri": "https://localhost:8080/",
          "height": 1000
        },
        "id": "toTOw1bemlYr",
        "outputId": "e4ba9e35-302e-4b29-f225-7c57fe3e1ac9"
      },
      "outputs": [
        {
          "name": "stdout",
          "output_type": "stream",
          "text": [
            "Enter user id\n"
          ]
        },
        {
          "ename": "NameError",
          "evalue": "name 'loaded_model' is not defined",
          "output_type": "error",
          "traceback": [
            "\u001b[1;31m---------------------------------------------------------------------------\u001b[0m",
            "\u001b[1;31mNameError\u001b[0m                                 Traceback (most recent call last)",
            "Cell \u001b[1;32mIn[32], line 2\u001b[0m\n\u001b[0;32m      1\u001b[0m \u001b[38;5;28mprint\u001b[39m(\u001b[38;5;124m\"\u001b[39m\u001b[38;5;124mEnter user id\u001b[39m\u001b[38;5;124m\"\u001b[39m)\n\u001b[1;32m----> 2\u001b[0m rating_df \u001b[38;5;241m=\u001b[39m recommender_system(\u001b[38;5;124m\"\u001b[39m\u001b[38;5;124mur2467618\u001b[39m\u001b[38;5;124m\"\u001b[39m,\u001b[43mloaded_model\u001b[49m, \u001b[38;5;241m2\u001b[39m)\n\u001b[0;32m      3\u001b[0m rating_df\n",
            "\u001b[1;31mNameError\u001b[0m: name 'loaded_model' is not defined"
          ]
        }
      ],
      "source": [
        "print(\"Enter user id\")\n",
        "rating_df = recommender_system(\"ur2467618\",loaded_model, 2)\n",
        "rating_df"
      ]
    }
  ],
  "metadata": {
    "accelerator": "GPU",
    "colab": {
      "gpuType": "T4",
      "provenance": []
    },
    "kernelspec": {
      "display_name": "Python 3",
      "name": "python3"
    },
    "language_info": {
      "codemirror_mode": {
        "name": "ipython",
        "version": 3
      },
      "file_extension": ".py",
      "mimetype": "text/x-python",
      "name": "python",
      "nbconvert_exporter": "python",
      "pygments_lexer": "ipython3",
      "version": "3.9.13"
    }
  },
  "nbformat": 4,
  "nbformat_minor": 0
}
