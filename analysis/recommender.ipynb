{
  "cells": [
    {
      "cell_type": "markdown",
      "metadata": {
        "id": "RGWRce6DuiJW"
      },
      "source": [
        "# **Build Recommend System**"
      ]
    },
    {
      "cell_type": "markdown",
      "metadata": {
        "id": "GyflSCMNuqTz"
      },
      "source": [
        "## *Install & Import libraries*"
      ]
    },
    {
      "cell_type": "code",
      "execution_count": 1,
      "metadata": {
        "id": "1ZRSd3k0lvKQ"
      },
      "outputs": [
        {
          "name": "stderr",
          "output_type": "stream",
          "text": [
            "2023-12-23 23:25:33.191183: I tensorflow/core/util/port.cc:113] oneDNN custom operations are on. You may see slightly different numerical results due to floating-point round-off errors from different computation orders. To turn them off, set the environment variable `TF_ENABLE_ONEDNN_OPTS=0`.\n",
            "2023-12-23 23:25:33.215399: E external/local_xla/xla/stream_executor/cuda/cuda_dnn.cc:9261] Unable to register cuDNN factory: Attempting to register factory for plugin cuDNN when one has already been registered\n",
            "2023-12-23 23:25:33.215418: E external/local_xla/xla/stream_executor/cuda/cuda_fft.cc:607] Unable to register cuFFT factory: Attempting to register factory for plugin cuFFT when one has already been registered\n",
            "2023-12-23 23:25:33.216077: E external/local_xla/xla/stream_executor/cuda/cuda_blas.cc:1515] Unable to register cuBLAS factory: Attempting to register factory for plugin cuBLAS when one has already been registered\n",
            "2023-12-23 23:25:33.221112: I tensorflow/core/platform/cpu_feature_guard.cc:182] This TensorFlow binary is optimized to use available CPU instructions in performance-critical operations.\n",
            "To enable the following instructions: AVX2 AVX_VNNI FMA, in other operations, rebuild TensorFlow with the appropriate compiler flags.\n",
            "2023-12-23 23:25:33.687987: W tensorflow/compiler/tf2tensorrt/utils/py_utils.cc:38] TF-TRT Warning: Could not find TensorRT\n"
          ]
        }
      ],
      "source": [
        "# Import libraries\n",
        "import os\n",
        "import numpy as np\n",
        "import pandas as pd\n",
        "import matplotlib.pyplot as plt\n",
        "from sklearn.model_selection import train_test_split\n",
        "from sklearn.preprocessing import LabelEncoder\n",
        "import requests\n",
        "import json\n",
        "import tensorflow as tf\n",
        "import keras\n",
        "from pprint import pprint"
      ]
    },
    {
      "cell_type": "code",
      "execution_count": 2,
      "metadata": {},
      "outputs": [
        {
          "name": "stdout",
          "output_type": "stream",
          "text": [
            "Num GPUs Available:  1\n"
          ]
        },
        {
          "name": "stderr",
          "output_type": "stream",
          "text": [
            "2023-12-23 23:25:34.016110: I external/local_xla/xla/stream_executor/cuda/cuda_executor.cc:887] could not open file to read NUMA node: /sys/bus/pci/devices/0000:01:00.0/numa_node\n",
            "Your kernel may have been built without NUMA support.\n"
          ]
        },
        {
          "data": {
            "text/plain": [
              "[PhysicalDevice(name='/physical_device:GPU:0', device_type='GPU')]"
            ]
          },
          "execution_count": 2,
          "metadata": {},
          "output_type": "execute_result"
        },
        {
          "name": "stderr",
          "output_type": "stream",
          "text": [
            "2023-12-23 23:25:34.040418: I external/local_xla/xla/stream_executor/cuda/cuda_executor.cc:887] could not open file to read NUMA node: /sys/bus/pci/devices/0000:01:00.0/numa_node\n",
            "Your kernel may have been built without NUMA support.\n",
            "2023-12-23 23:25:34.040453: I external/local_xla/xla/stream_executor/cuda/cuda_executor.cc:887] could not open file to read NUMA node: /sys/bus/pci/devices/0000:01:00.0/numa_node\n",
            "Your kernel may have been built without NUMA support.\n"
          ]
        }
      ],
      "source": [
        "import tensorflow as tf\n",
        "print(\"Num GPUs Available: \", len(tf.config.list_physical_devices('GPU')))\n",
        "\n",
        "# Use TensorFlow on the GPU\n",
        "tf.config.list_physical_devices(\"GPU\")\n"
      ]
    },
    {
      "cell_type": "markdown",
      "metadata": {
        "id": "GkvzU9Pju0GY"
      },
      "source": [
        "## *Loading data by API*"
      ]
    },
    {
      "cell_type": "markdown",
      "metadata": {
        "id": "p0YOwBw_u4Z2"
      },
      "source": [
        "### *Review data*"
      ]
    },
    {
      "cell_type": "code",
      "execution_count": 3,
      "metadata": {
        "colab": {
          "base_uri": "https://localhost:8080/"
        },
        "id": "sonB3ufG9oi7",
        "outputId": "9ec128b7-4193-43d1-bfbd-b52b32971e3e"
      },
      "outputs": [],
      "source": [
        "import pandas as pd\n",
        "\n",
        "raw_review_data = pd.read_csv(\"reviews.csv\").to_dict(\"records\")"
      ]
    },
    {
      "cell_type": "code",
      "execution_count": 4,
      "metadata": {
        "id": "g78SMHt2_wkR"
      },
      "outputs": [],
      "source": [
        "def parser_infor_review(json):\n",
        "  d = dict()\n",
        "  d['user_id'] = json.get('user_id_review')\n",
        "  d['movie_id'] = json.get('movie_id')\n",
        "  d['rating'] = json.get('ratings')\n",
        "  d['agree'] = json.get('total_agree')\n",
        "\n",
        "  return d"
      ]
    },
    {
      "cell_type": "code",
      "execution_count": 5,
      "metadata": {
        "id": "PQqSkpWb_OYh"
      },
      "outputs": [],
      "source": [
        "review_data = []\n",
        "for infor in raw_review_data:\n",
        "    review_data.append(parser_infor_review(infor))"
      ]
    },
    {
      "cell_type": "code",
      "execution_count": 6,
      "metadata": {
        "colab": {
          "base_uri": "https://localhost:8080/",
          "height": 423
        },
        "id": "JbHbkYq7Al5p",
        "outputId": "9b0cd6f2-8017-40f8-88d5-a4185c75fd98"
      },
      "outputs": [],
      "source": [
        "df = pd.DataFrame(review_data)\n",
        "df = df[~df['rating'].isna()]"
      ]
    },
    {
      "cell_type": "code",
      "execution_count": 7,
      "metadata": {
        "colab": {
          "base_uri": "https://localhost:8080/",
          "height": 423
        },
        "id": "yqdYUryLA8Sa",
        "outputId": "f3e62e79-29dd-4d77-aa1a-d927b4f569bf"
      },
      "outputs": [
        {
          "data": {
            "text/html": [
              "<div>\n",
              "<style scoped>\n",
              "    .dataframe tbody tr th:only-of-type {\n",
              "        vertical-align: middle;\n",
              "    }\n",
              "\n",
              "    .dataframe tbody tr th {\n",
              "        vertical-align: top;\n",
              "    }\n",
              "\n",
              "    .dataframe thead th {\n",
              "        text-align: right;\n",
              "    }\n",
              "</style>\n",
              "<table border=\"1\" class=\"dataframe\">\n",
              "  <thead>\n",
              "    <tr style=\"text-align: right;\">\n",
              "      <th></th>\n",
              "      <th>user_id</th>\n",
              "      <th>movie_id</th>\n",
              "      <th>rating</th>\n",
              "      <th>agree</th>\n",
              "    </tr>\n",
              "  </thead>\n",
              "  <tbody>\n",
              "    <tr>\n",
              "      <th>1</th>\n",
              "      <td>ur2467618</td>\n",
              "      <td>tt0004972</td>\n",
              "      <td>3.0</td>\n",
              "      <td>98 out of 159</td>\n",
              "    </tr>\n",
              "    <tr>\n",
              "      <th>2</th>\n",
              "      <td>ur1888886</td>\n",
              "      <td>tt0004972</td>\n",
              "      <td>10.0</td>\n",
              "      <td>192 out of 321</td>\n",
              "    </tr>\n",
              "    <tr>\n",
              "      <th>3</th>\n",
              "      <td>ur15148330</td>\n",
              "      <td>tt0004972</td>\n",
              "      <td>8.0</td>\n",
              "      <td>38 out of 60</td>\n",
              "    </tr>\n",
              "    <tr>\n",
              "      <th>7</th>\n",
              "      <td>ur2670273</td>\n",
              "      <td>tt0004972</td>\n",
              "      <td>1.0</td>\n",
              "      <td>216 out of 401</td>\n",
              "    </tr>\n",
              "    <tr>\n",
              "      <th>8</th>\n",
              "      <td>ur16588387</td>\n",
              "      <td>tt0004972</td>\n",
              "      <td>1.0</td>\n",
              "      <td>173 out of 300</td>\n",
              "    </tr>\n",
              "    <tr>\n",
              "      <th>...</th>\n",
              "      <td>...</td>\n",
              "      <td>...</td>\n",
              "      <td>...</td>\n",
              "      <td>...</td>\n",
              "    </tr>\n",
              "    <tr>\n",
              "      <th>3396663</th>\n",
              "      <td>ur151545409</td>\n",
              "      <td>tt9907782</td>\n",
              "      <td>6.0</td>\n",
              "      <td>0 out of 2</td>\n",
              "    </tr>\n",
              "    <tr>\n",
              "      <th>3396664</th>\n",
              "      <td>ur158343794</td>\n",
              "      <td>tt9907782</td>\n",
              "      <td>5.0</td>\n",
              "      <td>0 out of 3</td>\n",
              "    </tr>\n",
              "    <tr>\n",
              "      <th>3396665</th>\n",
              "      <td>ur112699390</td>\n",
              "      <td>tt9907782</td>\n",
              "      <td>4.0</td>\n",
              "      <td>1 out of 8</td>\n",
              "    </tr>\n",
              "    <tr>\n",
              "      <th>3396666</th>\n",
              "      <td>ur90893269</td>\n",
              "      <td>tt9907782</td>\n",
              "      <td>6.0</td>\n",
              "      <td>0 out of 2</td>\n",
              "    </tr>\n",
              "    <tr>\n",
              "      <th>3396667</th>\n",
              "      <td>ur143699340</td>\n",
              "      <td>tt9907782</td>\n",
              "      <td>7.0</td>\n",
              "      <td>0 out of 12</td>\n",
              "    </tr>\n",
              "  </tbody>\n",
              "</table>\n",
              "<p>3158986 rows × 4 columns</p>\n",
              "</div>"
            ],
            "text/plain": [
              "             user_id   movie_id  rating           agree\n",
              "1          ur2467618  tt0004972     3.0   98 out of 159\n",
              "2          ur1888886  tt0004972    10.0  192 out of 321\n",
              "3         ur15148330  tt0004972     8.0    38 out of 60\n",
              "7          ur2670273  tt0004972     1.0  216 out of 401\n",
              "8         ur16588387  tt0004972     1.0  173 out of 300\n",
              "...              ...        ...     ...             ...\n",
              "3396663  ur151545409  tt9907782     6.0      0 out of 2\n",
              "3396664  ur158343794  tt9907782     5.0      0 out of 3\n",
              "3396665  ur112699390  tt9907782     4.0      1 out of 8\n",
              "3396666   ur90893269  tt9907782     6.0      0 out of 2\n",
              "3396667  ur143699340  tt9907782     7.0     0 out of 12\n",
              "\n",
              "[3158986 rows x 4 columns]"
            ]
          },
          "execution_count": 7,
          "metadata": {},
          "output_type": "execute_result"
        }
      ],
      "source": [
        "df['rating'] = df['rating'].apply(pd.to_numeric, errors='coerce')\n",
        "df"
      ]
    },
    {
      "cell_type": "code",
      "execution_count": 8,
      "metadata": {
        "colab": {
          "base_uri": "https://localhost:8080/",
          "height": 423
        },
        "id": "LkmvBuFbCA5_",
        "outputId": "01f00fc1-546f-4fab-a248-f795a4daa041"
      },
      "outputs": [
        {
          "data": {
            "text/html": [
              "<div>\n",
              "<style scoped>\n",
              "    .dataframe tbody tr th:only-of-type {\n",
              "        vertical-align: middle;\n",
              "    }\n",
              "\n",
              "    .dataframe tbody tr th {\n",
              "        vertical-align: top;\n",
              "    }\n",
              "\n",
              "    .dataframe thead th {\n",
              "        text-align: right;\n",
              "    }\n",
              "</style>\n",
              "<table border=\"1\" class=\"dataframe\">\n",
              "  <thead>\n",
              "    <tr style=\"text-align: right;\">\n",
              "      <th></th>\n",
              "      <th>user_id</th>\n",
              "      <th>movie_id</th>\n",
              "      <th>rating</th>\n",
              "      <th>agree</th>\n",
              "    </tr>\n",
              "  </thead>\n",
              "  <tbody>\n",
              "    <tr>\n",
              "      <th>1</th>\n",
              "      <td>ur2467618</td>\n",
              "      <td>tt0004972</td>\n",
              "      <td>3.0</td>\n",
              "      <td>98 out of 159</td>\n",
              "    </tr>\n",
              "    <tr>\n",
              "      <th>2</th>\n",
              "      <td>ur1888886</td>\n",
              "      <td>tt0004972</td>\n",
              "      <td>10.0</td>\n",
              "      <td>192 out of 321</td>\n",
              "    </tr>\n",
              "    <tr>\n",
              "      <th>3</th>\n",
              "      <td>ur15148330</td>\n",
              "      <td>tt0004972</td>\n",
              "      <td>8.0</td>\n",
              "      <td>38 out of 60</td>\n",
              "    </tr>\n",
              "    <tr>\n",
              "      <th>7</th>\n",
              "      <td>ur2670273</td>\n",
              "      <td>tt0004972</td>\n",
              "      <td>1.0</td>\n",
              "      <td>216 out of 401</td>\n",
              "    </tr>\n",
              "    <tr>\n",
              "      <th>8</th>\n",
              "      <td>ur16588387</td>\n",
              "      <td>tt0004972</td>\n",
              "      <td>1.0</td>\n",
              "      <td>173 out of 300</td>\n",
              "    </tr>\n",
              "    <tr>\n",
              "      <th>...</th>\n",
              "      <td>...</td>\n",
              "      <td>...</td>\n",
              "      <td>...</td>\n",
              "      <td>...</td>\n",
              "    </tr>\n",
              "    <tr>\n",
              "      <th>3396663</th>\n",
              "      <td>ur151545409</td>\n",
              "      <td>tt9907782</td>\n",
              "      <td>6.0</td>\n",
              "      <td>0 out of 2</td>\n",
              "    </tr>\n",
              "    <tr>\n",
              "      <th>3396664</th>\n",
              "      <td>ur158343794</td>\n",
              "      <td>tt9907782</td>\n",
              "      <td>5.0</td>\n",
              "      <td>0 out of 3</td>\n",
              "    </tr>\n",
              "    <tr>\n",
              "      <th>3396665</th>\n",
              "      <td>ur112699390</td>\n",
              "      <td>tt9907782</td>\n",
              "      <td>4.0</td>\n",
              "      <td>1 out of 8</td>\n",
              "    </tr>\n",
              "    <tr>\n",
              "      <th>3396666</th>\n",
              "      <td>ur90893269</td>\n",
              "      <td>tt9907782</td>\n",
              "      <td>6.0</td>\n",
              "      <td>0 out of 2</td>\n",
              "    </tr>\n",
              "    <tr>\n",
              "      <th>3396667</th>\n",
              "      <td>ur143699340</td>\n",
              "      <td>tt9907782</td>\n",
              "      <td>7.0</td>\n",
              "      <td>0 out of 12</td>\n",
              "    </tr>\n",
              "  </tbody>\n",
              "</table>\n",
              "<p>3158986 rows × 4 columns</p>\n",
              "</div>"
            ],
            "text/plain": [
              "             user_id   movie_id  rating           agree\n",
              "1          ur2467618  tt0004972     3.0   98 out of 159\n",
              "2          ur1888886  tt0004972    10.0  192 out of 321\n",
              "3         ur15148330  tt0004972     8.0    38 out of 60\n",
              "7          ur2670273  tt0004972     1.0  216 out of 401\n",
              "8         ur16588387  tt0004972     1.0  173 out of 300\n",
              "...              ...        ...     ...             ...\n",
              "3396663  ur151545409  tt9907782     6.0      0 out of 2\n",
              "3396664  ur158343794  tt9907782     5.0      0 out of 3\n",
              "3396665  ur112699390  tt9907782     4.0      1 out of 8\n",
              "3396666   ur90893269  tt9907782     6.0      0 out of 2\n",
              "3396667  ur143699340  tt9907782     7.0     0 out of 12\n",
              "\n",
              "[3158986 rows x 4 columns]"
            ]
          },
          "execution_count": 8,
          "metadata": {},
          "output_type": "execute_result"
        }
      ],
      "source": [
        "df = df[df['rating'] != {'$numberDouble': 'NaN'}]\n",
        "df"
      ]
    },
    {
      "cell_type": "markdown",
      "metadata": {
        "id": "4Yhzm998vG11"
      },
      "source": [
        "### *Movie data*"
      ]
    },
    {
      "cell_type": "code",
      "execution_count": 9,
      "metadata": {
        "colab": {
          "base_uri": "https://localhost:8080/"
        },
        "id": "JCu5vMTVC6Uv",
        "outputId": "b130f80a-0407-4a3f-e007-ec90087d1ea1"
      },
      "outputs": [],
      "source": [
        "raw_movie_data = pd.read_csv(\"movies.csv\").to_dict(\"records\")"
      ]
    },
    {
      "cell_type": "code",
      "execution_count": 10,
      "metadata": {
        "id": "PJyGMVvkDK8Z"
      },
      "outputs": [],
      "source": [
        "def parser_infor_movie(json):\n",
        "  d = dict()\n",
        "  d['movie_id'] = json.get('id')\n",
        "  d['movie_title'] = json.get('title')\n",
        "\n",
        "  return d"
      ]
    },
    {
      "cell_type": "code",
      "execution_count": 11,
      "metadata": {
        "id": "NTemNs_TDcGL"
      },
      "outputs": [],
      "source": [
        "movie_data = []\n",
        "for infor in raw_movie_data:\n",
        "    movie_data.append(parser_infor_movie(infor))"
      ]
    },
    {
      "cell_type": "code",
      "execution_count": 12,
      "metadata": {
        "colab": {
          "base_uri": "https://localhost:8080/",
          "height": 423
        },
        "id": "cJFWNv0vDosb",
        "outputId": "5c2e5a33-8fd3-4306-c848-837308abf467"
      },
      "outputs": [
        {
          "data": {
            "text/html": [
              "<div>\n",
              "<style scoped>\n",
              "    .dataframe tbody tr th:only-of-type {\n",
              "        vertical-align: middle;\n",
              "    }\n",
              "\n",
              "    .dataframe tbody tr th {\n",
              "        vertical-align: top;\n",
              "    }\n",
              "\n",
              "    .dataframe thead th {\n",
              "        text-align: right;\n",
              "    }\n",
              "</style>\n",
              "<table border=\"1\" class=\"dataframe\">\n",
              "  <thead>\n",
              "    <tr style=\"text-align: right;\">\n",
              "      <th></th>\n",
              "      <th>movie_id</th>\n",
              "      <th>movie_title</th>\n",
              "    </tr>\n",
              "  </thead>\n",
              "  <tbody>\n",
              "    <tr>\n",
              "      <th>0</th>\n",
              "      <td>tt0000012</td>\n",
              "      <td>L&amp;apos;arrivée d&amp;apos;un train à La Ciotat</td>\n",
              "    </tr>\n",
              "    <tr>\n",
              "      <th>1</th>\n",
              "      <td>tt0000417</td>\n",
              "      <td>Le voyage dans la lune</td>\n",
              "    </tr>\n",
              "    <tr>\n",
              "      <th>2</th>\n",
              "      <td>tt0000439</td>\n",
              "      <td>The Great Train Robbery</td>\n",
              "    </tr>\n",
              "    <tr>\n",
              "      <th>3</th>\n",
              "      <td>tt0000546</td>\n",
              "      <td>Dream of a Rarebit Fiend</td>\n",
              "    </tr>\n",
              "    <tr>\n",
              "      <th>4</th>\n",
              "      <td>tt0000628</td>\n",
              "      <td>Adventures of Dollie</td>\n",
              "    </tr>\n",
              "    <tr>\n",
              "      <th>...</th>\n",
              "      <td>...</td>\n",
              "      <td>...</td>\n",
              "    </tr>\n",
              "    <tr>\n",
              "      <th>32149</th>\n",
              "      <td>tt9906260</td>\n",
              "      <td>Hero</td>\n",
              "    </tr>\n",
              "    <tr>\n",
              "      <th>32150</th>\n",
              "      <td>tt9907782</td>\n",
              "      <td>Eight for Silver</td>\n",
              "    </tr>\n",
              "    <tr>\n",
              "      <th>32151</th>\n",
              "      <td>tt9908860</td>\n",
              "      <td>Blown Away</td>\n",
              "    </tr>\n",
              "    <tr>\n",
              "      <th>32152</th>\n",
              "      <td>tt9914644</td>\n",
              "      <td>9/11: Escape from the Towers</td>\n",
              "    </tr>\n",
              "    <tr>\n",
              "      <th>32153</th>\n",
              "      <td>tt9916362</td>\n",
              "      <td>Akelarre</td>\n",
              "    </tr>\n",
              "  </tbody>\n",
              "</table>\n",
              "<p>32154 rows × 2 columns</p>\n",
              "</div>"
            ],
            "text/plain": [
              "        movie_id                                 movie_title\n",
              "0      tt0000012  L&apos;arrivée d&apos;un train à La Ciotat\n",
              "1      tt0000417                      Le voyage dans la lune\n",
              "2      tt0000439                     The Great Train Robbery\n",
              "3      tt0000546                    Dream of a Rarebit Fiend\n",
              "4      tt0000628                        Adventures of Dollie\n",
              "...          ...                                         ...\n",
              "32149  tt9906260                                        Hero\n",
              "32150  tt9907782                            Eight for Silver\n",
              "32151  tt9908860                                  Blown Away\n",
              "32152  tt9914644                9/11: Escape from the Towers\n",
              "32153  tt9916362                                    Akelarre\n",
              "\n",
              "[32154 rows x 2 columns]"
            ]
          },
          "execution_count": 12,
          "metadata": {},
          "output_type": "execute_result"
        }
      ],
      "source": [
        "df_2 = pd.DataFrame(movie_data)\n",
        "df_2"
      ]
    },
    {
      "cell_type": "markdown",
      "metadata": {
        "id": "KMLTd392wzSQ"
      },
      "source": [
        "## *Forming suitable dataset for Deep Learning model*"
      ]
    },
    {
      "cell_type": "code",
      "execution_count": 13,
      "metadata": {
        "colab": {
          "base_uri": "https://localhost:8080/",
          "height": 206
        },
        "id": "v4kdYDJCD6GG",
        "outputId": "acd90337-b5fc-4858-f00a-10be5b10fd4d"
      },
      "outputs": [
        {
          "data": {
            "text/html": [
              "<div>\n",
              "<style scoped>\n",
              "    .dataframe tbody tr th:only-of-type {\n",
              "        vertical-align: middle;\n",
              "    }\n",
              "\n",
              "    .dataframe tbody tr th {\n",
              "        vertical-align: top;\n",
              "    }\n",
              "\n",
              "    .dataframe thead th {\n",
              "        text-align: right;\n",
              "    }\n",
              "</style>\n",
              "<table border=\"1\" class=\"dataframe\">\n",
              "  <thead>\n",
              "    <tr style=\"text-align: right;\">\n",
              "      <th></th>\n",
              "      <th>user_id</th>\n",
              "      <th>movie_id</th>\n",
              "      <th>rating</th>\n",
              "      <th>agree</th>\n",
              "      <th>movie_title</th>\n",
              "    </tr>\n",
              "  </thead>\n",
              "  <tbody>\n",
              "    <tr>\n",
              "      <th>0</th>\n",
              "      <td>ur2467618</td>\n",
              "      <td>tt0004972</td>\n",
              "      <td>3.0</td>\n",
              "      <td>98 out of 159</td>\n",
              "      <td>The Birth of a Nation</td>\n",
              "    </tr>\n",
              "    <tr>\n",
              "      <th>1</th>\n",
              "      <td>ur1888886</td>\n",
              "      <td>tt0004972</td>\n",
              "      <td>10.0</td>\n",
              "      <td>192 out of 321</td>\n",
              "      <td>The Birth of a Nation</td>\n",
              "    </tr>\n",
              "    <tr>\n",
              "      <th>2</th>\n",
              "      <td>ur15148330</td>\n",
              "      <td>tt0004972</td>\n",
              "      <td>8.0</td>\n",
              "      <td>38 out of 60</td>\n",
              "      <td>The Birth of a Nation</td>\n",
              "    </tr>\n",
              "    <tr>\n",
              "      <th>3</th>\n",
              "      <td>ur2670273</td>\n",
              "      <td>tt0004972</td>\n",
              "      <td>1.0</td>\n",
              "      <td>216 out of 401</td>\n",
              "      <td>The Birth of a Nation</td>\n",
              "    </tr>\n",
              "    <tr>\n",
              "      <th>4</th>\n",
              "      <td>ur16588387</td>\n",
              "      <td>tt0004972</td>\n",
              "      <td>1.0</td>\n",
              "      <td>173 out of 300</td>\n",
              "      <td>The Birth of a Nation</td>\n",
              "    </tr>\n",
              "  </tbody>\n",
              "</table>\n",
              "</div>"
            ],
            "text/plain": [
              "      user_id   movie_id  rating           agree            movie_title\n",
              "0   ur2467618  tt0004972     3.0   98 out of 159  The Birth of a Nation\n",
              "1   ur1888886  tt0004972    10.0  192 out of 321  The Birth of a Nation\n",
              "2  ur15148330  tt0004972     8.0    38 out of 60  The Birth of a Nation\n",
              "3   ur2670273  tt0004972     1.0  216 out of 401  The Birth of a Nation\n",
              "4  ur16588387  tt0004972     1.0  173 out of 300  The Birth of a Nation"
            ]
          },
          "execution_count": 13,
          "metadata": {},
          "output_type": "execute_result"
        }
      ],
      "source": [
        "merged_dataset = pd.merge(df, df_2, how='inner', on='movie_id')\n",
        "merged_dataset.head()"
      ]
    },
    {
      "cell_type": "code",
      "execution_count": 14,
      "metadata": {
        "colab": {
          "base_uri": "https://localhost:8080/"
        },
        "id": "anu6p1y3kHa1",
        "outputId": "2d82dc76-3b43-4797-e431-ced975e9d012"
      },
      "outputs": [
        {
          "data": {
            "text/plain": [
              "movie_title\n",
              "Joker                                          11267\n",
              "The Shawshank Redemption                       10119\n",
              "Avengers: Endgame                               9369\n",
              "The Dark Knight                                 8313\n",
              "Zack Snyder&apos;s Justice League               8039\n",
              "                                               ...  \n",
              "Elvis Costello &amp; Burt Bacharach: Toledo        1\n",
              "M-G-M Jubilee Overture                             1\n",
              "Jensuah&apos;s Vlogs                               1\n",
              "Adhibar                                            1\n",
              "Transgressions                                     1\n",
              "Name: count, Length: 7548, dtype: int64"
            ]
          },
          "execution_count": 14,
          "metadata": {},
          "output_type": "execute_result"
        }
      ],
      "source": [
        "merged_dataset['movie_title'].value_counts()"
      ]
    },
    {
      "cell_type": "code",
      "execution_count": 15,
      "metadata": {
        "colab": {
          "base_uri": "https://localhost:8080/",
          "height": 206
        },
        "id": "via48QpWEJ-x",
        "outputId": "24cdebd3-4dc9-4480-9f15-71050d6fa7d7"
      },
      "outputs": [
        {
          "data": {
            "text/html": [
              "<div>\n",
              "<style scoped>\n",
              "    .dataframe tbody tr th:only-of-type {\n",
              "        vertical-align: middle;\n",
              "    }\n",
              "\n",
              "    .dataframe tbody tr th {\n",
              "        vertical-align: top;\n",
              "    }\n",
              "\n",
              "    .dataframe thead th {\n",
              "        text-align: right;\n",
              "    }\n",
              "</style>\n",
              "<table border=\"1\" class=\"dataframe\">\n",
              "  <thead>\n",
              "    <tr style=\"text-align: right;\">\n",
              "      <th></th>\n",
              "      <th>user_id</th>\n",
              "      <th>movie_title</th>\n",
              "      <th>rating</th>\n",
              "    </tr>\n",
              "  </thead>\n",
              "  <tbody>\n",
              "    <tr>\n",
              "      <th>0</th>\n",
              "      <td>ur0000001</td>\n",
              "      <td>The Final Destination</td>\n",
              "      <td>4.0</td>\n",
              "    </tr>\n",
              "    <tr>\n",
              "      <th>1</th>\n",
              "      <td>ur0000002</td>\n",
              "      <td>Disturbing Behavior</td>\n",
              "      <td>4.0</td>\n",
              "    </tr>\n",
              "    <tr>\n",
              "      <th>2</th>\n",
              "      <td>ur0000002</td>\n",
              "      <td>Freddy Got Fingered</td>\n",
              "      <td>2.0</td>\n",
              "    </tr>\n",
              "    <tr>\n",
              "      <th>3</th>\n",
              "      <td>ur0000002</td>\n",
              "      <td>The Mask of Zorro</td>\n",
              "      <td>7.0</td>\n",
              "    </tr>\n",
              "    <tr>\n",
              "      <th>4</th>\n",
              "      <td>ur0000005</td>\n",
              "      <td>Armageddon</td>\n",
              "      <td>6.0</td>\n",
              "    </tr>\n",
              "  </tbody>\n",
              "</table>\n",
              "</div>"
            ],
            "text/plain": [
              "     user_id            movie_title  rating\n",
              "0  ur0000001  The Final Destination     4.0\n",
              "1  ur0000002    Disturbing Behavior     4.0\n",
              "2  ur0000002    Freddy Got Fingered     2.0\n",
              "3  ur0000002      The Mask of Zorro     7.0\n",
              "4  ur0000005             Armageddon     6.0"
            ]
          },
          "execution_count": 15,
          "metadata": {},
          "output_type": "execute_result"
        }
      ],
      "source": [
        "refined_dataset = merged_dataset.groupby(by=['user_id','movie_title'], as_index=False).agg({\"rating\":\"mean\"})\n",
        "refined_dataset.head()"
      ]
    },
    {
      "cell_type": "markdown",
      "metadata": {
        "id": "SP1CbIWHxvPO"
      },
      "source": [
        "### *Encoding users and movie titles to make sure that the sequence has no missing values when dealing with Deep Neural Networks*"
      ]
    },
    {
      "cell_type": "code",
      "execution_count": 16,
      "metadata": {
        "id": "9PYiSPyJERMY"
      },
      "outputs": [],
      "source": [
        "user_enc = LabelEncoder()\n",
        "refined_dataset['user'] = user_enc.fit_transform(refined_dataset['user_id'].values)\n",
        "n_users = refined_dataset['user'].nunique()"
      ]
    },
    {
      "cell_type": "code",
      "execution_count": 17,
      "metadata": {
        "id": "fWKIPj7wEYNJ"
      },
      "outputs": [],
      "source": [
        "item_enc = LabelEncoder()\n",
        "refined_dataset['movie'] = item_enc.fit_transform(refined_dataset['movie_title'].values)\n",
        "n_movies = refined_dataset['movie'].nunique()"
      ]
    },
    {
      "cell_type": "code",
      "execution_count": 18,
      "metadata": {
        "colab": {
          "base_uri": "https://localhost:8080/"
        },
        "id": "vhbEy_x6EbkB",
        "outputId": "b4cede2e-20f9-4571-ead1-607da6a40870"
      },
      "outputs": [
        {
          "data": {
            "text/plain": [
              "(1236957, 7548, 1.0, 10.0)"
            ]
          },
          "execution_count": 18,
          "metadata": {},
          "output_type": "execute_result"
        }
      ],
      "source": [
        "refined_dataset['rating'] = refined_dataset['rating'].values.astype(np.float32)\n",
        "min_rating = min(refined_dataset['rating'])\n",
        "max_rating = max(refined_dataset['rating'])\n",
        "n_users, n_movies, min_rating, max_rating"
      ]
    },
    {
      "cell_type": "code",
      "execution_count": 19,
      "metadata": {
        "colab": {
          "base_uri": "https://localhost:8080/",
          "height": 206
        },
        "id": "pfVyosxsEfZk",
        "outputId": "7535f0f5-f3b1-4272-a5c7-d26e28fd1224"
      },
      "outputs": [
        {
          "data": {
            "text/html": [
              "<div>\n",
              "<style scoped>\n",
              "    .dataframe tbody tr th:only-of-type {\n",
              "        vertical-align: middle;\n",
              "    }\n",
              "\n",
              "    .dataframe tbody tr th {\n",
              "        vertical-align: top;\n",
              "    }\n",
              "\n",
              "    .dataframe thead th {\n",
              "        text-align: right;\n",
              "    }\n",
              "</style>\n",
              "<table border=\"1\" class=\"dataframe\">\n",
              "  <thead>\n",
              "    <tr style=\"text-align: right;\">\n",
              "      <th></th>\n",
              "      <th>user_id</th>\n",
              "      <th>movie_title</th>\n",
              "      <th>rating</th>\n",
              "      <th>user</th>\n",
              "      <th>movie</th>\n",
              "    </tr>\n",
              "  </thead>\n",
              "  <tbody>\n",
              "    <tr>\n",
              "      <th>0</th>\n",
              "      <td>ur0000001</td>\n",
              "      <td>The Final Destination</td>\n",
              "      <td>4.0</td>\n",
              "      <td>0</td>\n",
              "      <td>5856</td>\n",
              "    </tr>\n",
              "    <tr>\n",
              "      <th>1</th>\n",
              "      <td>ur0000002</td>\n",
              "      <td>Disturbing Behavior</td>\n",
              "      <td>4.0</td>\n",
              "      <td>1</td>\n",
              "      <td>1607</td>\n",
              "    </tr>\n",
              "    <tr>\n",
              "      <th>2</th>\n",
              "      <td>ur0000002</td>\n",
              "      <td>Freddy Got Fingered</td>\n",
              "      <td>2.0</td>\n",
              "      <td>1</td>\n",
              "      <td>2107</td>\n",
              "    </tr>\n",
              "    <tr>\n",
              "      <th>3</th>\n",
              "      <td>ur0000002</td>\n",
              "      <td>The Mask of Zorro</td>\n",
              "      <td>7.0</td>\n",
              "      <td>1</td>\n",
              "      <td>6247</td>\n",
              "    </tr>\n",
              "    <tr>\n",
              "      <th>4</th>\n",
              "      <td>ur0000005</td>\n",
              "      <td>Armageddon</td>\n",
              "      <td>6.0</td>\n",
              "      <td>2</td>\n",
              "      <td>497</td>\n",
              "    </tr>\n",
              "  </tbody>\n",
              "</table>\n",
              "</div>"
            ],
            "text/plain": [
              "     user_id            movie_title  rating  user  movie\n",
              "0  ur0000001  The Final Destination     4.0     0   5856\n",
              "1  ur0000002    Disturbing Behavior     4.0     1   1607\n",
              "2  ur0000002    Freddy Got Fingered     2.0     1   2107\n",
              "3  ur0000002      The Mask of Zorro     7.0     1   6247\n",
              "4  ur0000005             Armageddon     6.0     2    497"
            ]
          },
          "execution_count": 19,
          "metadata": {},
          "output_type": "execute_result"
        }
      ],
      "source": [
        "refined_dataset.head()"
      ]
    },
    {
      "cell_type": "markdown",
      "metadata": {
        "id": "6twJTZp0x51F"
      },
      "source": [
        "## *Training & Testing*"
      ]
    },
    {
      "cell_type": "markdown",
      "metadata": {
        "id": "zMk_jXF8yJys"
      },
      "source": [
        "### *Splitting the data into training and testing*"
      ]
    },
    {
      "cell_type": "code",
      "execution_count": 20,
      "metadata": {
        "colab": {
          "base_uri": "https://localhost:8080/"
        },
        "id": "TzL-4mRSEkba",
        "outputId": "fc0b93bb-830a-46ab-ce8f-393253bf1896"
      },
      "outputs": [
        {
          "data": {
            "text/plain": [
              "((2761806, 2), (306868, 2), (2761806,), (306868,))"
            ]
          },
          "execution_count": 20,
          "metadata": {},
          "output_type": "execute_result"
        }
      ],
      "source": [
        "X = refined_dataset[['user', 'movie']].values\n",
        "y = refined_dataset['rating'].values\n",
        "X_train, X_test, y_train, y_test = train_test_split(X, y, test_size=0.1, random_state=50)\n",
        "X_train.shape, X_test.shape, y_train.shape, y_test.shape"
      ]
    },
    {
      "cell_type": "code",
      "execution_count": 21,
      "metadata": {
        "id": "XR-2KlKjEl8o"
      },
      "outputs": [],
      "source": [
        "n_factors = 150"
      ]
    },
    {
      "cell_type": "code",
      "execution_count": 22,
      "metadata": {
        "id": "3FuB90dTEp04"
      },
      "outputs": [],
      "source": [
        "X_train_array = [X_train[:, 0], X_train[:, 1]]\n",
        "X_test_array = [X_test[:, 0], X_test[:, 1]]"
      ]
    },
    {
      "cell_type": "code",
      "execution_count": 23,
      "metadata": {
        "id": "aY2gnzN3ExXq"
      },
      "outputs": [],
      "source": [
        "y_train = (y_train - min_rating)/(max_rating - min_rating)\n",
        "y_test = (y_test - min_rating)/(max_rating - min_rating)"
      ]
    },
    {
      "cell_type": "markdown",
      "metadata": {
        "id": "nx3gJfuKyXQq"
      },
      "source": [
        "### *Building a Softmax Deep Neural Network*"
      ]
    },
    {
      "cell_type": "code",
      "execution_count": 24,
      "metadata": {
        "id": "yTi6xDA2EzwY"
      },
      "outputs": [
        {
          "name": "stderr",
          "output_type": "stream",
          "text": [
            "2023-12-23 23:26:11.456986: I external/local_xla/xla/stream_executor/cuda/cuda_executor.cc:887] could not open file to read NUMA node: /sys/bus/pci/devices/0000:01:00.0/numa_node\n",
            "Your kernel may have been built without NUMA support.\n",
            "2023-12-23 23:26:11.457035: I external/local_xla/xla/stream_executor/cuda/cuda_executor.cc:887] could not open file to read NUMA node: /sys/bus/pci/devices/0000:01:00.0/numa_node\n",
            "Your kernel may have been built without NUMA support.\n",
            "2023-12-23 23:26:11.457049: I external/local_xla/xla/stream_executor/cuda/cuda_executor.cc:887] could not open file to read NUMA node: /sys/bus/pci/devices/0000:01:00.0/numa_node\n",
            "Your kernel may have been built without NUMA support.\n",
            "2023-12-23 23:26:12.240346: I external/local_xla/xla/stream_executor/cuda/cuda_executor.cc:887] could not open file to read NUMA node: /sys/bus/pci/devices/0000:01:00.0/numa_node\n",
            "Your kernel may have been built without NUMA support.\n",
            "2023-12-23 23:26:12.240383: I external/local_xla/xla/stream_executor/cuda/cuda_executor.cc:887] could not open file to read NUMA node: /sys/bus/pci/devices/0000:01:00.0/numa_node\n",
            "Your kernel may have been built without NUMA support.\n",
            "2023-12-23 23:26:12.240388: I tensorflow/core/common_runtime/gpu/gpu_device.cc:2022] Could not identify NUMA node of platform GPU id 0, defaulting to 0.  Your kernel may not have been built with NUMA support.\n",
            "2023-12-23 23:26:12.240409: I external/local_xla/xla/stream_executor/cuda/cuda_executor.cc:887] could not open file to read NUMA node: /sys/bus/pci/devices/0000:01:00.0/numa_node\n",
            "Your kernel may have been built without NUMA support.\n",
            "2023-12-23 23:26:12.240424: I tensorflow/core/common_runtime/gpu/gpu_device.cc:1929] Created device /job:localhost/replica:0/task:0/device:GPU:0 with 9537 MB memory:  -> device: 0, name: NVIDIA GeForce RTX 3060, pci bus id: 0000:01:00.0, compute capability: 8.6\n"
          ]
        }
      ],
      "source": [
        "## Initializing a input layer for users\n",
        "user = tf.keras.layers.Input(shape = (1,))\n",
        "\n",
        "## Embedding layer for n_factors of users\n",
        "u = keras.layers.Embedding(n_users, n_factors, embeddings_initializer = 'he_normal', embeddings_regularizer = tf.keras.regularizers.l2(1e-6))(user)\n",
        "u = tf.keras.layers.Reshape((n_factors,))(u)\n",
        "\n",
        "## Initializing a input layer for movies\n",
        "movie = tf.keras.layers.Input(shape = (1,))\n",
        "\n",
        "## Embedding layer for n_factors of movies\n",
        "m = keras.layers.Embedding(n_movies, n_factors, embeddings_initializer = 'he_normal', embeddings_regularizer=tf.keras.regularizers.l2(1e-6))(movie)\n",
        "m = tf.keras.layers.Reshape((n_factors,))(m)\n",
        "\n",
        "## stacking up both user and movie embeddings\n",
        "x = tf.keras.layers.Concatenate()([u,m])\n",
        "x = tf.keras.layers.Dropout(0.05)(x)\n",
        "\n",
        "## Adding a Dense layer to the architecture\n",
        "x = tf.keras.layers.Dense(32, kernel_initializer='he_normal')(x)\n",
        "x = tf.keras.layers.Activation(activation='relu')(x)\n",
        "x = tf.keras.layers.Dropout(0.05)(x)\n",
        "\n",
        "x = tf.keras.layers.Dense(16, kernel_initializer='he_normal')(x)\n",
        "x = tf.keras.layers.Activation(activation='relu')(x)\n",
        "x = tf.keras.layers.Dropout(0.05)(x)\n",
        "\n",
        "## Adding an Output layer with Sigmoid activation funtion which gives output between 0 and 1\n",
        "x = tf.keras.layers.Dense(9)(x)\n",
        "x = tf.keras.layers.Activation(activation='softmax')(x)\n",
        "\n",
        "## Adding a Lambda layer to convert the output to rating by scaling it with the help of available rating information\n",
        "# x = tf.keras.layers.Lambda(lambda x: x*(max_rating - min_rating) + min_rating)(x)\n",
        "\n",
        "## Defining the model\n",
        "model = tf.keras.models.Model(inputs=[user,movie], outputs=x)\n",
        "# optimizer = tf.keras.optimizers.Adam(lr=0.001)\n",
        "# optimizer = tf.keras.optimizers.RMSprop(learning_rate=0.005,\n",
        "    # rho=0.9, momentum=0.01, epsilon=1e-07)\n",
        "\n",
        "## Compiling the model\n",
        "# model.compile(loss='binary_crossentropy', optimizer = optimizer)\n",
        "# model.compile(loss='mean_squared_error', optimizer = optimizer,metrics=['accuracy'])\n",
        "model.compile(optimizer='sgd', loss=tf.keras.losses.SparseCategoricalCrossentropy(), metrics=['accuracy'])\n"
      ]
    },
    {
      "cell_type": "code",
      "execution_count": 25,
      "metadata": {
        "colab": {
          "base_uri": "https://localhost:8080/"
        },
        "id": "qvqouxVIE3_-",
        "outputId": "6dd52cbf-74dd-410b-87ef-06b1f1624672"
      },
      "outputs": [
        {
          "name": "stdout",
          "output_type": "stream",
          "text": [
            "Epoch 1/50\n"
          ]
        },
        {
          "name": "stderr",
          "output_type": "stream",
          "text": [
            "/home/tienvan0158/.local/lib/python3.10/site-packages/tensorflow/python/framework/indexed_slices.py:446: UserWarning: Converting sparse IndexedSlices to a dense Tensor with 185543550 elements. This may consume a large amount of memory.\n",
            "  warnings.warn(\n",
            "2023-12-23 23:26:57.282895: W external/local_xla/xla/service/gpu/llvm_gpu_backend/gpu_backend_lib.cc:504] Can't find libdevice directory ${CUDA_DIR}/nvvm/libdevice. This may result in compilation or runtime failures, if the program we try to run uses routines from libdevice.\n",
            "Searched for CUDA in the following directories:\n",
            "  ./cuda_sdk_lib\n",
            "  /usr/local/cuda-12.2\n",
            "  /usr/local/cuda\n",
            "  /home/tienvan0158/.local/lib/python3.10/site-packages/tensorflow/python/platform/../../../nvidia/cuda_nvcc\n",
            "  /home/tienvan0158/.local/lib/python3.10/site-packages/tensorflow/python/platform/../../../../nvidia/cuda_nvcc\n",
            "  .\n",
            "You can choose the search directory by setting xla_gpu_cuda_data_dir in HloModule's DebugOptions.  For most apps, setting the environment variable XLA_FLAGS=--xla_gpu_cuda_data_dir=/path/to/cuda will work.\n",
            "2023-12-23 23:26:57.440360: I external/local_tsl/tsl/platform/default/subprocess.cc:304] Start cannot spawn child process: No such file or directory\n",
            "2023-12-23 23:26:57.551721: I external/local_tsl/tsl/platform/default/subprocess.cc:304] Start cannot spawn child process: No such file or directory\n",
            "2023-12-23 23:26:57.551775: W external/local_xla/xla/stream_executor/gpu/asm_compiler.cc:110] Couldn't get ptxas version : FAILED_PRECONDITION: Couldn't get ptxas/nvlink version string: INTERNAL: Couldn't invoke ptxas --version\n",
            "2023-12-23 23:26:57.633171: I external/local_tsl/tsl/platform/default/subprocess.cc:304] Start cannot spawn child process: No such file or directory\n",
            "2023-12-23 23:26:57.633214: I external/local_tsl/tsl/platform/default/subprocess.cc:304] Start cannot spawn child process: No such file or directory\n",
            "2023-12-23 23:26:57.633231: W external/local_xla/xla/stream_executor/gpu/asm_compiler.cc:110] Couldn't get ptxas version : FAILED_PRECONDITION: Couldn't get ptxas/nvlink version string: INTERNAL: Couldn't invoke ptxas --version\n",
            "2023-12-23 23:26:57.633275: W tensorflow/compiler/mlir/tools/kernel_gen/transforms/gpu_kernel_to_blob_pass.cc:191] Failed to compile generated PTX with ptxas. Falling back to compilation by driver.\n",
            "2023-12-23 23:26:57.703346: I external/local_tsl/tsl/platform/default/subprocess.cc:304] Start cannot spawn child process: No such file or directory\n",
            "2023-12-23 23:26:57.703391: I external/local_tsl/tsl/platform/default/subprocess.cc:304] Start cannot spawn child process: No such file or directory\n",
            "2023-12-23 23:26:57.703410: W external/local_xla/xla/stream_executor/gpu/asm_compiler.cc:110] Couldn't get ptxas version : FAILED_PRECONDITION: Couldn't get ptxas/nvlink version string: INTERNAL: Couldn't invoke ptxas --version\n",
            "2023-12-23 23:26:57.703443: W tensorflow/compiler/mlir/tools/kernel_gen/transforms/gpu_kernel_to_blob_pass.cc:191] Failed to compile generated PTX with ptxas. Falling back to compilation by driver.\n",
            "2023-12-23 23:26:57.781363: I external/local_tsl/tsl/platform/default/subprocess.cc:304] Start cannot spawn child process: No such file or directory\n",
            "2023-12-23 23:26:57.781407: I external/local_tsl/tsl/platform/default/subprocess.cc:304] Start cannot spawn child process: No such file or directory\n",
            "2023-12-23 23:26:57.781427: W external/local_xla/xla/stream_executor/gpu/asm_compiler.cc:110] Couldn't get ptxas version : FAILED_PRECONDITION: Couldn't get ptxas/nvlink version string: INTERNAL: Couldn't invoke ptxas --version\n",
            "2023-12-23 23:26:57.781461: W tensorflow/compiler/mlir/tools/kernel_gen/transforms/gpu_kernel_to_blob_pass.cc:191] Failed to compile generated PTX with ptxas. Falling back to compilation by driver.\n",
            "2023-12-23 23:26:57.857986: I external/local_tsl/tsl/platform/default/subprocess.cc:304] Start cannot spawn child process: No such file or directory\n",
            "2023-12-23 23:26:57.858029: I external/local_tsl/tsl/platform/default/subprocess.cc:304] Start cannot spawn child process: No such file or directory\n",
            "2023-12-23 23:26:57.858047: W external/local_xla/xla/stream_executor/gpu/asm_compiler.cc:110] Couldn't get ptxas version : FAILED_PRECONDITION: Couldn't get ptxas/nvlink version string: INTERNAL: Couldn't invoke ptxas --version\n",
            "2023-12-23 23:26:57.858089: W tensorflow/compiler/mlir/tools/kernel_gen/transforms/gpu_kernel_to_blob_pass.cc:191] Failed to compile generated PTX with ptxas. Falling back to compilation by driver.\n",
            "2023-12-23 23:26:57.944333: I external/local_tsl/tsl/platform/default/subprocess.cc:304] Start cannot spawn child process: No such file or directory\n",
            "2023-12-23 23:26:57.944389: W external/local_xla/xla/stream_executor/gpu/asm_compiler.cc:110] Couldn't get ptxas version : FAILED_PRECONDITION: Couldn't get ptxas/nvlink version string: INTERNAL: Couldn't invoke ptxas --version\n",
            "2023-12-23 23:26:57.944640: I external/local_tsl/tsl/platform/default/subprocess.cc:304] Start cannot spawn child process: No such file or directory\n",
            "2023-12-23 23:26:57.944687: W tensorflow/compiler/mlir/tools/kernel_gen/transforms/gpu_kernel_to_blob_pass.cc:191] Failed to compile generated PTX with ptxas. Falling back to compilation by driver.\n",
            "2023-12-23 23:26:58.038788: I external/local_tsl/tsl/platform/default/subprocess.cc:304] Start cannot spawn child process: No such file or directory\n",
            "2023-12-23 23:26:58.038829: I external/local_tsl/tsl/platform/default/subprocess.cc:304] Start cannot spawn child process: No such file or directory\n",
            "2023-12-23 23:26:58.038848: W external/local_xla/xla/stream_executor/gpu/asm_compiler.cc:110] Couldn't get ptxas version : FAILED_PRECONDITION: Couldn't get ptxas/nvlink version string: INTERNAL: Couldn't invoke ptxas --version\n",
            "2023-12-23 23:26:58.038891: W tensorflow/compiler/mlir/tools/kernel_gen/transforms/gpu_kernel_to_blob_pass.cc:191] Failed to compile generated PTX with ptxas. Falling back to compilation by driver.\n",
            "2023-12-23 23:26:58.123565: I external/local_tsl/tsl/platform/default/subprocess.cc:304] Start cannot spawn child process: No such file or directory\n",
            "2023-12-23 23:26:58.123623: I external/local_tsl/tsl/platform/default/subprocess.cc:304] Start cannot spawn child process: No such file or directory\n",
            "2023-12-23 23:26:58.123657: W external/local_xla/xla/stream_executor/gpu/asm_compiler.cc:110] Couldn't get ptxas version : FAILED_PRECONDITION: Couldn't get ptxas/nvlink version string: INTERNAL: Couldn't invoke ptxas --version\n",
            "2023-12-23 23:26:58.123662: W tensorflow/compiler/mlir/tools/kernel_gen/transforms/gpu_kernel_to_blob_pass.cc:191] Failed to compile generated PTX with ptxas. Falling back to compilation by driver.\n",
            "2023-12-23 23:26:58.214484: I external/local_tsl/tsl/platform/default/subprocess.cc:304] Start cannot spawn child process: No such file or directory\n",
            "2023-12-23 23:26:58.214529: I external/local_tsl/tsl/platform/default/subprocess.cc:304] Start cannot spawn child process: No such file or directory\n",
            "2023-12-23 23:26:58.214540: W external/local_xla/xla/stream_executor/gpu/asm_compiler.cc:110] Couldn't get ptxas version : FAILED_PRECONDITION: Couldn't get ptxas/nvlink version string: INTERNAL: Couldn't invoke ptxas --version\n",
            "2023-12-23 23:26:58.214590: W tensorflow/compiler/mlir/tools/kernel_gen/transforms/gpu_kernel_to_blob_pass.cc:191] Failed to compile generated PTX with ptxas. Falling back to compilation by driver.\n",
            "2023-12-23 23:26:58.344257: I external/local_tsl/tsl/platform/default/subprocess.cc:304] Start cannot spawn child process: No such file or directory\n",
            "2023-12-23 23:26:58.344332: W tensorflow/compiler/mlir/tools/kernel_gen/transforms/gpu_kernel_to_blob_pass.cc:191] Failed to compile generated PTX with ptxas. Falling back to compilation by driver.\n",
            "2023-12-23 23:26:59.577456: I external/local_tsl/tsl/platform/default/subprocess.cc:304] Start cannot spawn child process: No such file or directory\n",
            "2023-12-23 23:26:59.577542: W external/local_xla/xla/stream_executor/gpu/asm_compiler.cc:110] Couldn't get ptxas version : FAILED_PRECONDITION: Couldn't get ptxas/nvlink version string: INTERNAL: Couldn't invoke ptxas --version\n",
            "2023-12-23 23:26:59.686030: I external/local_tsl/tsl/platform/default/subprocess.cc:304] Start cannot spawn child process: No such file or directory\n",
            "2023-12-23 23:26:59.686101: W tensorflow/compiler/mlir/tools/kernel_gen/transforms/gpu_kernel_to_blob_pass.cc:191] Failed to compile generated PTX with ptxas. Falling back to compilation by driver.\n",
            "2023-12-23 23:26:59.698530: I external/local_xla/xla/service/service.cc:168] XLA service 0x7fb210642f40 initialized for platform CUDA (this does not guarantee that XLA will be used). Devices:\n",
            "2023-12-23 23:26:59.698554: I external/local_xla/xla/service/service.cc:176]   StreamExecutor device (0): NVIDIA GeForce RTX 3060, Compute Capability 8.6\n",
            "2023-12-23 23:26:59.899898: I external/local_xla/xla/stream_executor/cuda/cuda_dnn.cc:454] Loaded cuDNN version 8902\n",
            "2023-12-23 23:26:59.988187: I external/local_tsl/tsl/platform/default/subprocess.cc:304] Start cannot spawn child process: No such file or directory\n",
            "2023-12-23 23:26:59.988233: W external/local_xla/xla/stream_executor/gpu/asm_compiler.cc:110] Couldn't get ptxas version : FAILED_PRECONDITION: Couldn't get ptxas/nvlink version string: INTERNAL: Couldn't invoke ptxas --version\n"
          ]
        },
        {
          "ename": "",
          "evalue": "",
          "output_type": "error",
          "traceback": [
            "\u001b[1;31mThe Kernel crashed while executing code in the the current cell or a previous cell. Please review the code in the cell(s) to identify a possible cause of the failure. Click <a href='https://aka.ms/vscodeJupyterKernelCrash'>here</a> for more info. View Jupyter <a href='command:jupyter.viewOutput'>log</a> for further details."
          ]
        }
      ],
      "source": [
        "reduce_lr = tf.keras.callbacks.ReduceLROnPlateau(monitor='val_loss', factor=0.75, patience=3, min_lr=0.000001, verbose=1)\n",
        "\n",
        "history = model.fit(x = X_train_array, y = y_train, batch_size=4, epochs=50, verbose=1, validation_data=(X_test_array, y_test)\n",
        ",shuffle=True,callbacks=[reduce_lr])"
      ]
    },
    {
      "cell_type": "code",
      "execution_count": 27,
      "metadata": {
        "colab": {
          "base_uri": "https://localhost:8080/",
          "height": 472
        },
        "id": "6SlfWxp2FvNU",
        "outputId": "49823d2a-d569-42f7-b606-6eeeab96b844"
      },
      "outputs": [
        {
          "data": {
            "image/png": "[encoded data removed]",
            "text/plain": [
              "<Figure size 640x480 with 1 Axes>"
            ]
          },
          "metadata": {},
          "output_type": "display_data"
        }
      ],
      "source": [
        "plt.plot(history.history[\"loss\"][5:])\n",
        "plt.plot(history.history[\"val_loss\"][5:])\n",
        "plt.title(\"model loss\")\n",
        "plt.ylabel(\"loss\")\n",
        "plt.xlabel(\"epoch\")\n",
        "plt.legend([\"train\", \"test\"], loc=\"upper left\")\n",
        "plt.show()"
      ]
    },
    {
      "cell_type": "code",
      "execution_count": 28,
      "metadata": {
        "id": "mJ3d1C9JF0Do"
      },
      "outputs": [],
      "source": [
        "def recommender_system(user_id, model, n_movies):\n",
        "\n",
        "  print(\"\")\n",
        "  print(\"Movie seen by the User:\")\n",
        "  pprint(list(refined_dataset[refined_dataset['user_id'] == user_id]['movie_title']))\n",
        "  print(\"\")\n",
        "\n",
        "  encoded_user_id = user_enc.transform([user_id])\n",
        "\n",
        "  seen_movies = list(refined_dataset[refined_dataset['user_id'] == user_id]['movie'])\n",
        "  print(len(seen_movies))\n",
        "  unseen_movies = [i for i in range(min(refined_dataset['movie']), max(refined_dataset['movie'])+1) if i not in seen_movies]\n",
        "  print(len(unseen_movies))\n",
        "  model_input = [np.asarray(list(encoded_user_id)*len(unseen_movies)), np.asarray(unseen_movies)]\n",
        "  predicted_ratings = model.predict(model_input)\n",
        "  predicted_ratings = np.max(predicted_ratings, axis=1)\n",
        "  sorted_index = np.argsort(predicted_ratings)[::-1]\n",
        "  recommended_movies = item_enc.inverse_transform(sorted_index)\n",
        "  print(\"---------------------------------------------------------------------------------\")\n",
        "  print(\"Top \"+str(n_movies)+\" Movie recommendations for the User \"+str(user_id)+ \" are:\")\n",
        "  pprint(list(recommended_movies[:n_movies]))\n",
        "\n",
        "  # Tạo DataFrame từ danh sách tên phim và dự đoán ratings\n",
        "  recommendations_df = pd.DataFrame({\n",
        "      'Tên Phim': recommended_movies[:n_movies],\n",
        "      'Rating Dự Đoán': predicted_ratings[sorted_index][:n_movies]*(max_rating - min_rating)  + min_rating# Lấy các dự đoán tương ứng\n",
        "  })\n",
        "\n",
        "  return recommendations_df"
      ]
    },
    {
      "cell_type": "code",
      "execution_count": 29,
      "metadata": {
        "colab": {
          "base_uri": "https://localhost:8080/"
        },
        "id": "XRcxTsAniiYy",
        "outputId": "83f1928f-e941-45ec-d26f-09724687874e"
      },
      "outputs": [
        {
          "data": {
            "text/plain": [
              "movie_id\n",
              "tt0004972    1\n",
              "tt0052225    1\n",
              "tt0053114    1\n",
              "tt0053072    1\n",
              "tt0052997    1\n",
              "            ..\n",
              "tt0039661    1\n",
              "tt0039628    1\n",
              "tt0039501    1\n",
              "tt0039286    1\n",
              "tt0062512    1\n",
              "Name: count, Length: 497, dtype: int64"
            ]
          },
          "execution_count": 29,
          "metadata": {},
          "output_type": "execute_result"
        }
      ],
      "source": [
        "# Test\n",
        "df[df['user_id'] == \"ur2467618\"]['movie_id'].value_counts()"
      ]
    },
    {
      "cell_type": "code",
      "execution_count": null,
      "metadata": {
        "id": "4Ewv4UYvGIKD"
      },
      "outputs": [],
      "source": [
        "print(\"Enter user id\")\n",
        "user_id= input()\n",
        "\n",
        "print(\"Enter number of movies to be recommended:\")\n",
        "n_movies = int(input())\n",
        "rating_df = recommender_system(user_id,model,n_movies)\n",
        "rating_df"
      ]
    },
    {
      "cell_type": "markdown",
      "metadata": {
        "id": "-_4oSQUNl8Sy"
      },
      "source": [
        "## *Save model and load model to use*"
      ]
    },
    {
      "cell_type": "code",
      "execution_count": 32,
      "metadata": {
        "id": "iB5I_M5FmB8k"
      },
      "outputs": [
        {
          "name": "stdout",
          "output_type": "stream",
          "text": [
            "INFO:tensorflow:Assets written to: Recommend_System\\assets\n"
          ]
        },
        {
          "name": "stderr",
          "output_type": "stream",
          "text": [
            "INFO:tensorflow:Assets written to: Recommend_System\\assets\n"
          ]
        }
      ],
      "source": [
        "model.save('Recommend_System')"
      ]
    },
    {
      "cell_type": "code",
      "execution_count": 33,
      "metadata": {
        "id": "szlOS2aVmeIf"
      },
      "outputs": [],
      "source": [
        "loaded_model = tf.keras.models.load_model('Recommend_System')"
      ]
    },
    {
      "cell_type": "code",
      "execution_count": 34,
      "metadata": {
        "colab": {
          "base_uri": "https://localhost:8080/",
          "height": 1000
        },
        "id": "toTOw1bemlYr",
        "outputId": "e4ba9e35-302e-4b29-f225-7c57fe3e1ac9"
      },
      "outputs": [
        {
          "name": "stdout",
          "output_type": "stream",
          "text": [
            "Enter user id\n",
            "Enter number of movies to be recommended:\n",
            "\n",
            "Movie seen by the User:\n",
            "['12 Angry Men',\n",
            " '3 Godfathers',\n",
            " '8½',\n",
            " 'A Bell for Adano',\n",
            " 'A Cry in the Night',\n",
            " 'A Night at the Opera',\n",
            " 'A Star Is Born',\n",
            " 'A Streetcar Named Desire',\n",
            " 'A Yank in the R.A.F.',\n",
            " 'Ace in the Hole',\n",
            " 'Alexis Zorbas',\n",
            " 'Alfie',\n",
            " 'Alphaville: Une étrange aventure de Lemmy Caution',\n",
            " 'Anatomy of a Murder',\n",
            " 'Angel Face',\n",
            " 'Animal Crackers',\n",
            " 'Arsenic and Old Lace',\n",
            " 'Artists and Models',\n",
            " 'Ascenseur pour l&apos;échafaud',\n",
            " 'Auntie Mame',\n",
            " 'Banshun',\n",
            " 'Battle Beneath the Earth',\n",
            " 'Battle of the Bulge',\n",
            " 'Battle of the Coral Sea',\n",
            " 'Beat the Devil',\n",
            " 'Beau James',\n",
            " 'Becket',\n",
            " 'Belle de jour',\n",
            " 'Ben-Hur',\n",
            " 'Berserk',\n",
            " 'Between Two Worlds',\n",
            " 'Bingo Crosbyana',\n",
            " 'Bonnie and Clyde',\n",
            " 'Born Yesterday',\n",
            " 'Brief Encounter',\n",
            " 'Bringing Up Baby',\n",
            " 'Bronenosets Potemkin',\n",
            " 'Bud Abbott and Lou Costello Meet Frankenstein',\n",
            " 'Camelot',\n",
            " 'Captain Clegg',\n",
            " 'Carnival of Souls',\n",
            " 'Casablanca',\n",
            " 'Chain Lightning',\n",
            " 'Charade',\n",
            " 'Christmas in July',\n",
            " 'City Lights',\n",
            " 'Colorado Territory',\n",
            " 'Conflict',\n",
            " 'Cool Hand Luke',\n",
            " 'Csillagosok, katonák',\n",
            " 'Daddy Long Legs',\n",
            " 'Damn Yankees',\n",
            " 'Das Cabinet des Dr. Caligari',\n",
            " 'Dead End',\n",
            " 'Destination Tokyo',\n",
            " 'Det sjunde inseglet',\n",
            " 'Dial M for Murder',\n",
            " 'Distant Drums',\n",
            " 'Doctor Zhivago',\n",
            " 'Double Indemnity',\n",
            " 'Down Argentine Way',\n",
            " 'Dr. No',\n",
            " 'Dr. Strangelove or: How I Learned to Stop Worrying and Love the Bomb',\n",
            " 'Dracula',\n",
            " 'Dream Wife',\n",
            " 'Drácula',\n",
            " 'Duck Soup',\n",
            " 'Dumbo',\n",
            " 'East of Eden',\n",
            " 'Eyes in the Night',\n",
            " 'Fire Maidens from Outer Space',\n",
            " 'First a Girl',\n",
            " 'Five',\n",
            " 'Follow Me Quietly',\n",
            " 'Foreign Correspondent',\n",
            " 'Fort Apache',\n",
            " 'Forty Guns',\n",
            " 'Frankenstein',\n",
            " 'Gidget',\n",
            " 'Glen or Glenda',\n",
            " 'Goldfinger',\n",
            " 'Gone with the Wind',\n",
            " 'Grandma&apos;s Boy',\n",
            " 'Guess Who&apos;s Coming to Dinner',\n",
            " 'Hang &apos;Em High',\n",
            " 'Harvey',\n",
            " 'Hatari!',\n",
            " 'Hell and High Water',\n",
            " 'High Noon',\n",
            " 'His Girl Friday',\n",
            " 'Holiday',\n",
            " 'Home from the Hill',\n",
            " 'House by the River',\n",
            " 'House on Haunted Hill',\n",
            " 'How Green Was My Valley',\n",
            " 'How the West Was Won',\n",
            " 'Hud',\n",
            " 'I Am a Fugitive from a Chain Gang',\n",
            " 'I Confess',\n",
            " 'I Remember Mama',\n",
            " 'Ikiru',\n",
            " 'Il buono, il brutto, il cattivo',\n",
            " 'Imitation of Life',\n",
            " 'In Harm&apos;s Way',\n",
            " 'In a Lonely Place',\n",
            " 'In the Heat of the Night',\n",
            " 'Inherit the Wind',\n",
            " 'Intolerance: Love&apos;s Struggle Throughout the Ages',\n",
            " 'It Happened One Night',\n",
            " 'It&apos;s Trad, Dad!',\n",
            " 'It&apos;s a Wonderful Life',\n",
            " 'Ivan Groznyy. Skaz vtoroy: Boyarskiy zagovor',\n",
            " 'Jane Eyre',\n",
            " 'Jet Pilot',\n",
            " 'Josette',\n",
            " 'Judgment at Nuremberg',\n",
            " 'Key Largo',\n",
            " 'King Kong',\n",
            " 'Kismet',\n",
            " 'L&apos;année dernière à Marienbad',\n",
            " 'L&apos;avventura',\n",
            " 'La battaglia di Algeri',\n",
            " 'La dolce vita',\n",
            " 'La jetée',\n",
            " 'La maschera del demonio',\n",
            " 'La passion de Jeanne d&apos;Arc',\n",
            " 'La strada',\n",
            " 'Ladri di biciclette',\n",
            " 'Le Samouraï',\n",
            " 'Le mépris',\n",
            " 'Le roi de coeur',\n",
            " 'Le salaire de la peur',\n",
            " 'Les parapluies de Cherbourg',\n",
            " 'Les quatre cents coups',\n",
            " 'Letyat zhuravli',\n",
            " 'Lilies of the Field',\n",
            " 'Limonádový Joe aneb Konská opera',\n",
            " 'Lisbon',\n",
            " 'Little Lord Fauntleroy',\n",
            " 'Lolita',\n",
            " 'Long Day&apos;s Journey Into Night',\n",
            " 'Love Is a Many-Splendored Thing',\n",
            " 'M - Eine Stadt sucht einen Mörder',\n",
            " 'Madam Satan',\n",
            " 'Made for Each Other',\n",
            " 'Magical Mystery Tour',\n",
            " 'Man Hunt',\n",
            " 'Mandalay',\n",
            " 'Manos: The Hands of Fate',\n",
            " 'Marked Woman',\n",
            " 'Marnie',\n",
            " 'Mary Poppins',\n",
            " 'Meet Me in St. Louis',\n",
            " 'Men in War',\n",
            " 'Metropolis',\n",
            " 'Mildred Pierce',\n",
            " 'Ministry of Fear',\n",
            " 'Miracle in the Rain',\n",
            " 'Miracle on 34th Street',\n",
            " 'Mister Roberts',\n",
            " 'Modern Times',\n",
            " 'Mogambo',\n",
            " 'Monster a Go-Go',\n",
            " 'Mr. Smith Goes to Washington',\n",
            " 'Mrs. Miniver',\n",
            " 'Mutiny on the Bounty',\n",
            " 'My Best Girl',\n",
            " 'My Cousin Rachel',\n",
            " 'My Man Godfrey',\n",
            " 'National Velvet',\n",
            " 'Niagara',\n",
            " 'Nightmare Alley',\n",
            " 'Nora inu',\n",
            " 'North by Northwest',\n",
            " 'Nothing Sacred',\n",
            " 'Nóz w wodzie',\n",
            " 'Oklahoma!',\n",
            " 'On the Town',\n",
            " 'On the Waterfront',\n",
            " 'One, Two, Three',\n",
            " 'Out of the Past',\n",
            " 'Paris - When It Sizzles',\n",
            " 'Pather Panchali',\n",
            " 'Paths of Glory',\n",
            " 'Peeping Tom',\n",
            " 'Penny Serenade',\n",
            " 'Per qualche dollaro in più',\n",
            " 'Per un pugno di dollari',\n",
            " 'Persona',\n",
            " 'Peyton Place',\n",
            " 'Pickpocket',\n",
            " 'Plan 9 from Outer Space',\n",
            " 'Playmates',\n",
            " 'Pork Chop Hill',\n",
            " 'Portrait of Jennie',\n",
            " 'Pushover',\n",
            " 'Pyaasa',\n",
            " 'Quatermass and the Pit',\n",
            " 'Rabbit of Seville',\n",
            " 'Raintree County',\n",
            " 'Random Harvest',\n",
            " 'Ransom!',\n",
            " 'Rashômon',\n",
            " 'Reap the Wild Wind',\n",
            " 'Rear Window',\n",
            " 'Rebecca',\n",
            " 'Rebel Without a Cause',\n",
            " 'Repulsion',\n",
            " 'Rich and Strange',\n",
            " 'Rio Bravo',\n",
            " 'Roman Holiday',\n",
            " 'Rope',\n",
            " 'Saboteur',\n",
            " 'Sabrina',\n",
            " 'Safety Last!',\n",
            " 'Saturday Night and Sunday Morning',\n",
            " 'Sayonara',\n",
            " 'Scarface',\n",
            " 'Scrooge',\n",
            " 'Seconds',\n",
            " 'Seppuku',\n",
            " 'Sergeant York',\n",
            " 'Seven Brides for Seven Brothers',\n",
            " 'Shadow of a Doubt',\n",
            " 'Sherlock Jr.',\n",
            " 'Shichinin no samurai',\n",
            " 'Shûbun',\n",
            " 'Singin&apos; in the Rain',\n",
            " 'Slave Girls',\n",
            " 'Sleeping Beauty',\n",
            " 'Smultronstället',\n",
            " 'Snow White and the Seven Dwarfs',\n",
            " 'Some Like It Hot',\n",
            " 'Song of the South',\n",
            " 'South Pacific',\n",
            " 'Stagecoach',\n",
            " 'Stalag 17',\n",
            " 'Strait-Jacket',\n",
            " 'Strike Up the Band',\n",
            " 'Sullivan&apos;s Travels',\n",
            " 'Suna no onna',\n",
            " 'Sunrise: A Song of Two Humans',\n",
            " 'Sunset Blvd.',\n",
            " 'Suspicion',\n",
            " 'Tanin no kao',\n",
            " 'Tengoku to jigoku',\n",
            " 'The Admirable Crichton',\n",
            " 'The Adventures of Robin Hood',\n",
            " 'The Angry Red Planet',\n",
            " 'The Apartment',\n",
            " 'The Bad Seed',\n",
            " 'The Bad and the Beautiful',\n",
            " 'The Band Wagon',\n",
            " 'The Barefoot Contessa',\n",
            " 'The Bellboy',\n",
            " 'The Best Man',\n",
            " 'The Best Years of Our Lives',\n",
            " 'The Big Boodle',\n",
            " 'The Big Heat',\n",
            " 'The Birds',\n",
            " 'The Birth of a Nation',\n",
            " 'The Bitter Tea of General Yen',\n",
            " 'The Black Sleep',\n",
            " 'The Borgia Stick',\n",
            " 'The Bridge on the River Kwai',\n",
            " 'The Chase',\n",
            " 'The Circus',\n",
            " 'The Comancheros',\n",
            " 'The Crowd',\n",
            " 'The Dam Busters',\n",
            " 'The Dirty Dozen',\n",
            " 'The Flight That Disappeared',\n",
            " 'The Floorwalker',\n",
            " 'The General',\n",
            " 'The Gold Rush',\n",
            " 'The Graduate',\n",
            " 'The Grapes of Wrath',\n",
            " 'The Great Dictator',\n",
            " 'The Great Escape',\n",
            " 'The Great Race',\n",
            " 'The Haunting',\n",
            " 'The Hill',\n",
            " 'The House of Fear',\n",
            " 'The Hustler',\n",
            " 'The Incredible Shrinking Man',\n",
            " 'The Inn of the Sixth Happiness',\n",
            " 'The Intruder',\n",
            " 'The Invisible Man',\n",
            " 'The Ipcress File',\n",
            " 'The Kid',\n",
            " 'The Killing',\n",
            " 'The Kiss of the Vampire',\n",
            " 'The Lady Eve',\n",
            " 'The League of Gentlemen',\n",
            " 'The Little Shop of Horrors',\n",
            " 'The Lost Patrol',\n",
            " 'The Lost Weekend',\n",
            " 'The Magnificent Ambersons',\n",
            " 'The Magnificent Seven',\n",
            " 'The Maltese Falcon',\n",
            " 'The Man Who Knew Too Much',\n",
            " 'The Man Who Shot Liberty Valance',\n",
            " 'The Narrow Margin',\n",
            " 'The Navigator',\n",
            " 'The Night of the Hunter',\n",
            " 'The Old Man and the Sea',\n",
            " 'The Outlaw',\n",
            " 'The Outlaws Is Coming',\n",
            " 'The Outsider',\n",
            " 'The Ox-Bow Incident',\n",
            " 'The Patsy',\n",
            " 'The Pride of the Yankees',\n",
            " 'The Professionals',\n",
            " 'The Public Enemy',\n",
            " 'The Red Badge of Courage',\n",
            " 'The Reluctant Dragon',\n",
            " 'The Reptile',\n",
            " 'The Searchers',\n",
            " 'The Shop Around the Corner',\n",
            " 'The Silencers',\n",
            " 'The Sound of Music',\n",
            " 'The Story of Will Rogers',\n",
            " 'The Tall Men',\n",
            " 'The Third Man',\n",
            " 'The Thrill of It All',\n",
            " 'The Treasure of the Sierra Madre',\n",
            " 'The Trouble with Harry',\n",
            " 'The Unsuspected',\n",
            " 'The Vikings',\n",
            " 'The Virgin Queen',\n",
            " 'The Wizard of Oz',\n",
            " 'The Women',\n",
            " 'The Wrong Box',\n",
            " 'The Wrong Man',\n",
            " 'Them!',\n",
            " 'These Glamour Girls',\n",
            " 'They Were Expendable',\n",
            " 'Thunderball',\n",
            " 'Till the Clouds Roll By',\n",
            " 'To Be or Not to Be',\n",
            " 'To Kill a Mockingbird',\n",
            " 'Tomorrow Is Forever',\n",
            " 'Topkapi',\n",
            " 'Torn Curtain',\n",
            " 'Twelve O&apos;Clock High',\n",
            " 'Tôkyô monogatari',\n",
            " 'Un chien andalou',\n",
            " 'Un homme et une femme',\n",
            " 'Until They Sail',\n",
            " 'Vertigo',\n",
            " 'Wait Until Dark',\n",
            " 'Walk Don&apos;t Run',\n",
            " 'Weekend for Three',\n",
            " 'Went the Day Well?',\n",
            " 'What Ever Happened to Baby Jane?',\n",
            " 'What&apos;s Opera, Doc?',\n",
            " 'White Christmas',\n",
            " 'Who&apos;s Afraid of Virginia Woolf?',\n",
            " 'Witness for the Prosecution',\n",
            " 'Woman&apos;s World',\n",
            " 'Wuthering Heights',\n",
            " 'You Belong to Me',\n",
            " 'You Only Live Twice',\n",
            " 'You&apos;re in the Army Now',\n",
            " 'Young and Innocent',\n",
            " 'Yôjinbô',\n",
            " 'Zazie dans le métro',\n",
            " 'Ziegfeld Girl',\n",
            " 'Zulu']\n",
            "\n",
            "369\n",
            "57\n",
            "2/2 [==============================] - 0s 3ms/step\n",
            "---------------------------------------------------------------------------------\n",
            "Top 10 Movie recommendations for the User ur2467618 are:\n",
            "['Alfie',\n",
            " 'Auntie Mame',\n",
            " 'Camelot',\n",
            " 'Brief Encounter',\n",
            " 'Animal Crackers',\n",
            " 'Alexis Zorbas',\n",
            " 'Berserk',\n",
            " 'City Lights',\n",
            " 'Becket',\n",
            " 'Campanadas a medianoche']\n"
          ]
        },
        {
          "data": {
            "text/html": [
              "<div>\n",
              "<style scoped>\n",
              "    .dataframe tbody tr th:only-of-type {\n",
              "        vertical-align: middle;\n",
              "    }\n",
              "\n",
              "    .dataframe tbody tr th {\n",
              "        vertical-align: top;\n",
              "    }\n",
              "\n",
              "    .dataframe thead th {\n",
              "        text-align: right;\n",
              "    }\n",
              "</style>\n",
              "<table border=\"1\" class=\"dataframe\">\n",
              "  <thead>\n",
              "    <tr style=\"text-align: right;\">\n",
              "      <th></th>\n",
              "      <th>Tên Phim</th>\n",
              "      <th>Rating Dự Đoán</th>\n",
              "    </tr>\n",
              "  </thead>\n",
              "  <tbody>\n",
              "    <tr>\n",
              "      <th>0</th>\n",
              "      <td>Alfie</td>\n",
              "      <td>9.925731</td>\n",
              "    </tr>\n",
              "    <tr>\n",
              "      <th>1</th>\n",
              "      <td>Auntie Mame</td>\n",
              "      <td>9.893542</td>\n",
              "    </tr>\n",
              "    <tr>\n",
              "      <th>2</th>\n",
              "      <td>Camelot</td>\n",
              "      <td>9.870921</td>\n",
              "    </tr>\n",
              "    <tr>\n",
              "      <th>3</th>\n",
              "      <td>Brief Encounter</td>\n",
              "      <td>9.861587</td>\n",
              "    </tr>\n",
              "    <tr>\n",
              "      <th>4</th>\n",
              "      <td>Animal Crackers</td>\n",
              "      <td>9.859078</td>\n",
              "    </tr>\n",
              "    <tr>\n",
              "      <th>5</th>\n",
              "      <td>Alexis Zorbas</td>\n",
              "      <td>9.856615</td>\n",
              "    </tr>\n",
              "    <tr>\n",
              "      <th>6</th>\n",
              "      <td>Berserk</td>\n",
              "      <td>9.854775</td>\n",
              "    </tr>\n",
              "    <tr>\n",
              "      <th>7</th>\n",
              "      <td>City Lights</td>\n",
              "      <td>9.831305</td>\n",
              "    </tr>\n",
              "    <tr>\n",
              "      <th>8</th>\n",
              "      <td>Becket</td>\n",
              "      <td>9.811176</td>\n",
              "    </tr>\n",
              "    <tr>\n",
              "      <th>9</th>\n",
              "      <td>Campanadas a medianoche</td>\n",
              "      <td>9.787570</td>\n",
              "    </tr>\n",
              "  </tbody>\n",
              "</table>\n",
              "</div>"
            ],
            "text/plain": [
              "                  Tên Phim  Rating Dự Đoán\n",
              "0                    Alfie        9.925731\n",
              "1              Auntie Mame        9.893542\n",
              "2                  Camelot        9.870921\n",
              "3          Brief Encounter        9.861587\n",
              "4          Animal Crackers        9.859078\n",
              "5            Alexis Zorbas        9.856615\n",
              "6                  Berserk        9.854775\n",
              "7              City Lights        9.831305\n",
              "8                   Becket        9.811176\n",
              "9  Campanadas a medianoche        9.787570"
            ]
          },
          "execution_count": 34,
          "metadata": {},
          "output_type": "execute_result"
        }
      ],
      "source": [
        "print(\"Enter user id\")\n",
        "user_id= input()\n",
        "\n",
        "print(\"Enter number of movies to be recommended:\")\n",
        "n_movies = int(input())\n",
        "rating_df = recommender_system(user_id,loaded_model, n_movies)\n",
        "rating_df"
      ]
    }
  ],
  "metadata": {
    "accelerator": "GPU",
    "colab": {
      "gpuType": "T4",
      "provenance": []
    },
    "kernelspec": {
      "display_name": "Python 3",
      "name": "python3"
    },
    "language_info": {
      "codemirror_mode": {
        "name": "ipython",
        "version": 3
      },
      "file_extension": ".py",
      "mimetype": "text/x-python",
      "name": "python",
      "nbconvert_exporter": "python",
      "pygments_lexer": "ipython3",
      "version": "3.0.0"
    }
  },
  "nbformat": 4,
  "nbformat_minor": 0
}
